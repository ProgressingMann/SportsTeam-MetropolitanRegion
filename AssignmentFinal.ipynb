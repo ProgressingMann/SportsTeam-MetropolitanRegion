{
 "cells": [
  {
   "cell_type": "markdown",
   "metadata": {},
   "source": [
    "# Assignment 4\n",
    "## Description\n",
    "In this assignment you must read in a file of metropolitan regions and associated sports teams from [assets/wikipedia_data.html](assets/wikipedia_data.html) and answer some questions about each metropolitan region. Each of these regions may have one or more teams from the \"Big 4\": NFL (football, in [assets/nfl.csv](assets/nfl.csv)), MLB (baseball, in [assets/mlb.csv](assets/mlb.csv)), NBA (basketball, in [assets/nba.csv](assets/nba.csv) or NHL (hockey, in [assets/nhl.csv](assets/nhl.csv)). Please keep in mind that all questions are from the perspective of the metropolitan region, and that this file is the \"source of authority\" for the location of a given sports team. Thus teams which are commonly known by a different area (e.g. \"Oakland Raiders\") need to be mapped into the metropolitan region given (e.g. San Francisco Bay Area). This will require some human data understanding outside of the data you've been given (e.g. you will have to hand-code some names, and might need to google to find out where teams are)!\n",
    "\n",
    "For each sport I would like you to answer the question: **what is the win/loss ratio's correlation with the population of the city it is in?** Win/Loss ratio refers to the number of wins over the number of wins plus the number of losses. Remember that to calculate the correlation with [`pearsonr`](https://docs.scipy.org/doc/scipy/reference/generated/scipy.stats.pearsonr.html), so you are going to send in two ordered lists of values, the populations from the wikipedia_data.html file and the win/loss ratio for a given sport in the same order. Average the win/loss ratios for those cities which have multiple teams of a single sport. Each sport is worth an equal amount in this assignment (20%\\*4=80%) of the grade for this assignment. You should only use data **from year 2018** for your analysis -- this is important!\n",
    "\n",
    "## Notes\n",
    "\n",
    "1. Do not include data about the MLS or CFL in any of the work you are doing, we're only interested in the Big 4 in this assignment.\n",
    "2. I highly suggest that you first tackle the four correlation questions in order, as they are all similar and worth the majority of grades for this assignment. This is by design!\n",
    "3. It's fair game to talk with peers about high level strategy as well as the relationship between metropolitan areas and sports teams. However, do not post code solving aspects of the assignment (including such as dictionaries mapping areas to teams, or regexes which will clean up names).\n",
    "4. There may be more teams than the assert statements test, remember to collapse multiple teams in one city into a single value!"
   ]
  },
  {
   "cell_type": "markdown",
   "metadata": {},
   "source": [
    "## Question 1\n",
    "For this question, calculate the win/loss ratio's correlation with the population of the city it is in for the **NHL** using **2018** data."
   ]
  },
  {
   "cell_type": "code",
   "execution_count": 10,
   "metadata": {},
   "outputs": [
    {
     "name": "stderr",
     "output_type": "stream",
     "text": [
      "C:\\Users\\Mann\\anaconda3\\lib\\site-packages\\ipykernel_launcher.py:17: SettingWithCopyWarning: \n",
      "A value is trying to be set on a copy of a slice from a DataFrame.\n",
      "Try using .loc[row_indexer,col_indexer] = value instead\n",
      "\n",
      "See the caveats in the documentation: https://pandas.pydata.org/pandas-docs/stable/user_guide/indexing.html#returning-a-view-versus-a-copy\n"
     ]
    },
    {
     "data": {
      "text/plain": [
       "0.012486162921209909"
      ]
     },
     "execution_count": 10,
     "metadata": {},
     "output_type": "execute_result"
    }
   ],
   "source": [
    "import pandas as pd\n",
    "import numpy as np\n",
    "import scipy.stats as stats\n",
    "import re\n",
    "\n",
    "def nhl_correlation(): \n",
    "    nhl_df1=pd.read_csv(\"assets/nhl.csv\")\n",
    "    cities_df1=pd.read_html(\"assets/wikipedia_data.html\")[1]\n",
    "    cities_df1=cities_df1.iloc[:-1,[0,3,5,6,7,8]]\n",
    "    cities_df1.rename({'Population (2016 est.)[8]': 'Population'}, axis=1, inplace=True)\n",
    "    \n",
    "    # YOUR CODE HERE\n",
    "    nhl_df1 = nhl_df1[nhl_df1['year'] == 2018]\n",
    "    cities = pd.read_html('assets/wikipedia_data.html')[1]\n",
    "    #cities.rename({'Population (2016 est.)[8]': 'Population'}, axis=1, inplace=True)\n",
    "    new_nhl = cities[['Metropolitan area', 'NHL']]\n",
    "    new_nhl['LName'] = new_nhl['NHL'].apply(lambda x: re.findall('[A-Z][a-z]+', x))\n",
    "    new_nhl = new_nhl.explode(column='LName').drop('NHL', axis=1).dropna()\n",
    "    new_nhl.rename({'LName': 'team_LName'}, axis=1, inplace=True)\n",
    "    nhlteams_index = new_nhl['Metropolitan area'].unique()\n",
    "    nhl_df1['team_LName'] = nhl_df1['team'].apply(lambda x: re.findall('.+\\s(\\w+)\\*?', x)[-1])\n",
    "    nhl_cities = nhl_df1.merge(new_nhl, on='team_LName')\n",
    "    nhl_cities['W'] = nhl_cities['W'].astype(int)\n",
    "    nhl_cities['L'] = nhl_cities['L'].astype(int)\n",
    "    nhl_cities['W/L_%'] = nhl_cities['W'] / (nhl_cities['L'] + nhl_cities['W'])\n",
    "    nhl_cities_merged = nhl_cities.groupby('Metropolitan area').agg({'W/L_%': 'mean'}).sort_index()\n",
    "    q1 = nhl_cities_merged.merge(cities_df1[['Metropolitan area', 'Population']], on='Metropolitan area')\n",
    "    q1 = q1.set_index('Metropolitan area').loc[nhlteams_index]\n",
    "    q1['Population'] = q1['Population'].astype(np.float)\n",
    "    population_by_region = q1['Population'] # pass in metropolitan area population from cities\n",
    "    win_loss_by_region = q1['W/L_%'] # pass in win/loss ratio from nhl_df in the same order as cities[\"Metropolitan area\"]\n",
    "\n",
    "    assert len(population_by_region) == len(win_loss_by_region), \"Q1: Your lists must be the same length\"\n",
    "    assert len(population_by_region) == 28, \"Q1: There should be 28 teams being analysed for NHL\"\n",
    "   \n",
    "    return stats.pearsonr(population_by_region, win_loss_by_region)[0]\n",
    "    raise NotImplementedError()\n",
    "    \n",
    "    \n",
    "nhl_correlation()"
   ]
  },
  {
   "cell_type": "markdown",
   "metadata": {},
   "source": [
    "## Question 2\n",
    "For this question, calculate the win/loss ratio's correlation with the population of the city it is in for the **NBA** using **2018** data."
   ]
  },
  {
   "cell_type": "code",
   "execution_count": 5,
   "metadata": {},
   "outputs": [
    {
     "name": "stderr",
     "output_type": "stream",
     "text": [
      "C:\\Users\\Mann\\anaconda3\\lib\\site-packages\\ipykernel_launcher.py:16: SettingWithCopyWarning: \n",
      "A value is trying to be set on a copy of a slice from a DataFrame.\n",
      "Try using .loc[row_indexer,col_indexer] = value instead\n",
      "\n",
      "See the caveats in the documentation: https://pandas.pydata.org/pandas-docs/stable/user_guide/indexing.html#returning-a-view-versus-a-copy\n",
      "  app.launch_new_instance()\n"
     ]
    },
    {
     "data": {
      "text/plain": [
       "-0.17636350642182935"
      ]
     },
     "execution_count": 5,
     "metadata": {},
     "output_type": "execute_result"
    }
   ],
   "source": [
    "import pandas as pd\n",
    "import numpy as np\n",
    "import scipy.stats as stats\n",
    "import re\n",
    "\n",
    "def nba_correlation():\n",
    "    # YOUR CODE HERE\n",
    "    nba_df = pd.read_csv('assets/nba.csv')\n",
    "    cities_df=pd.read_html(\"assets/wikipedia_data.html\")[1]\n",
    "    cities_df=cities_df.iloc[:-1,[0,3,5,6,7,8]]\n",
    "    cities_df.rename({'Population (2016 est.)[8]': 'Population'}, axis=1, inplace=True)\n",
    "    cities_df['Population'] = cities_df['Population'].astype(np.float)\n",
    "    \n",
    "    nba_df = nba_df[nba_df['year'] == 2018]\n",
    "    new_nba = cities_df[['Metropolitan area', 'NBA']]\n",
    "    new_nba['team_LName'] = cities_df['NBA'].apply(lambda x: re.findall('[A-Z\\d]+[a-z]+', x))\n",
    "    new_nba = new_nba.explode(column='team_LName').dropna().drop('NBA', axis=1)\n",
    "    nba_df['team_LName'] = nba_df['team'].apply(lambda x: re.findall('[a-zA-Z\\s]+\\s([1-9a-zA-Z]+)\\*?\\s\\S+', x)[0])\n",
    "    nba_df['W/L%'] = nba_df['W/L%'].astype(np.float)\n",
    "    nba_cities_merged = new_nba.merge(nba_df, on='team_LName').groupby('Metropolitan area').agg({'W/L%': 'mean'}).reset_index()\n",
    "    q2 = cities_df.merge(nba_cities_merged, on='Metropolitan area')[['Metropolitan area', 'W/L%', 'Population']].set_index('Metropolitan area')\n",
    "    \n",
    "    population_by_region = q2['Population'] # pass in metropolitan area population from cities\n",
    "    win_loss_by_region = q2['W/L%'] # pass in win/loss ratio from nba_df in the same order as cities[\"Metropolitan area\"]\n",
    "    return stats.pearsonr(population_by_region, win_loss_by_region)[0]\n",
    "    \n",
    "    assert len(population_by_region) == len(win_loss_by_region), \"Q2: Your lists must be the same length\"\n",
    "    assert len(population_by_region) == 28, \"Q2: There should be 28 teams being analysed for NBA\"\n",
    "\n",
    "    raise NotImplementedError()\n",
    "    \n",
    "\n",
    "nba_correlation()"
   ]
  },
  {
   "cell_type": "markdown",
   "metadata": {},
   "source": [
    "## Question 3\n",
    "For this question, calculate the win/loss ratio's correlation with the population of the city it is in for the **MLB** using **2018** data."
   ]
  },
  {
   "cell_type": "code",
   "execution_count": 6,
   "metadata": {},
   "outputs": [
    {
     "name": "stderr",
     "output_type": "stream",
     "text": [
      "C:\\Users\\Mann\\anaconda3\\lib\\site-packages\\pandas\\core\\indexing.py:844: SettingWithCopyWarning: \n",
      "A value is trying to be set on a copy of a slice from a DataFrame.\n",
      "Try using .loc[row_indexer,col_indexer] = value instead\n",
      "\n",
      "See the caveats in the documentation: https://pandas.pydata.org/pandas-docs/stable/user_guide/indexing.html#returning-a-view-versus-a-copy\n",
      "  self.obj[key] = _infer_fill_value(value)\n",
      "C:\\Users\\Mann\\anaconda3\\lib\\site-packages\\pandas\\core\\indexing.py:965: SettingWithCopyWarning: \n",
      "A value is trying to be set on a copy of a slice from a DataFrame.\n",
      "Try using .loc[row_indexer,col_indexer] = value instead\n",
      "\n",
      "See the caveats in the documentation: https://pandas.pydata.org/pandas-docs/stable/user_guide/indexing.html#returning-a-view-versus-a-copy\n",
      "  self.obj[item] = s\n"
     ]
    },
    {
     "data": {
      "text/plain": [
       "0.15003737475409495"
      ]
     },
     "execution_count": 6,
     "metadata": {},
     "output_type": "execute_result"
    }
   ],
   "source": [
    "import pandas as pd\n",
    "import numpy as np\n",
    "import scipy.stats as stats\n",
    "import re\n",
    "\n",
    "def mlb_correlation(): \n",
    "    # YOUR CODE HERE\n",
    "        \n",
    "    mlb_df=pd.read_csv(\"assets/mlb.csv\")\n",
    "    cities_df=pd.read_html(\"assets/wikipedia_data.html\")[1]\n",
    "    cities_df=cities_df.iloc[:-1,[0,3,5,6,7,8]]\n",
    "    cities_df.rename({'Population (2016 est.)[8]': 'Population'}, axis=1, inplace=True)\n",
    "    \n",
    "    mlb_df = pd.read_csv('assets/mlb.csv')\n",
    "    mlb_df = mlb_df[mlb_df['year'] == 2018]\n",
    "    new_mlb = cities_df[['Metropolitan area', 'MLB']]\n",
    "    new_mlb.loc[:, 'team_LName'] = cities_df.loc[:, 'MLB'].apply(lambda x: re.findall('[A-Z][a-z]+\\s[A-Z][a-z]+|[A-Z][a-z]+', x))\n",
    "    new_mlb = new_mlb.explode(column='team_LName').dropna().drop('MLB', axis=1)\n",
    "    mlb_index = new_mlb['Metropolitan area'].unique()\n",
    "    mlb_df.loc[:, 'team_LName'] = mlb_df.loc[:, 'team'].apply(lambda x: re.findall('.+\\s([A-Z][a-z]+)', x)[0])\n",
    "    mlb_df.loc[0, 'team_LName'] = 'Red Sox'\n",
    "    mlb_df.loc[8, 'team_LName'] = 'White Sox'\n",
    "    mlb_df.loc[3, 'team_LName'] = 'Blue Jays'\n",
    "    q3 = new_mlb.merge(mlb_df, on='team_LName').groupby('Metropolitan area').agg({'W-L%': 'mean'}).loc[mlb_index, :]\n",
    "    q3 = q3.reset_index().merge(cities_df[['Metropolitan area', 'Population']], on='Metropolitan area').set_index('Metropolitan area')\n",
    "    q3['W-L%'] = q3['W-L%'].astype(np.float)\n",
    "    q3['Population'] = q3['Population'].astype(np.float)\n",
    "    \n",
    "    population_by_region = q3['Population'] # pass in metropolitan area population from cities\n",
    "    win_loss_by_region = q3['W-L%'] # pass in win/loss ratio from mlb_df in the same order as cities[\"Metropolitan area\"]\n",
    "\n",
    "    assert len(population_by_region) == len(win_loss_by_region), \"Q3: Your lists must be the same length\"\n",
    "    assert len(population_by_region) == 26, \"Q3: There should be 26 teams being analysed for MLB\"\n",
    "\n",
    "    return stats.pearsonr(population_by_region, win_loss_by_region)[0]\n",
    "\n",
    "    raise NotImplementedError()\n",
    "    \n",
    "mlb_correlation()    "
   ]
  },
  {
   "cell_type": "markdown",
   "metadata": {},
   "source": [
    "## Question 4\n",
    "For this question, calculate the win/loss ratio's correlation with the population of the city it is in for the **NFL** using **2018** data."
   ]
  },
  {
   "cell_type": "code",
   "execution_count": 8,
   "metadata": {},
   "outputs": [
    {
     "name": "stderr",
     "output_type": "stream",
     "text": [
      "C:\\Users\\Mann\\anaconda3\\lib\\site-packages\\ipykernel_launcher.py:20: SettingWithCopyWarning: \n",
      "A value is trying to be set on a copy of a slice from a DataFrame.\n",
      "Try using .loc[row_indexer,col_indexer] = value instead\n",
      "\n",
      "See the caveats in the documentation: https://pandas.pydata.org/pandas-docs/stable/user_guide/indexing.html#returning-a-view-versus-a-copy\n"
     ]
    },
    {
     "data": {
      "text/plain": [
       "0.004282141436393022"
      ]
     },
     "execution_count": 8,
     "metadata": {},
     "output_type": "execute_result"
    }
   ],
   "source": [
    "import pandas as pd\n",
    "import numpy as np\n",
    "import scipy.stats as stats\n",
    "import re\n",
    "\n",
    "def nfl_correlation(): \n",
    "    # YOUR CODE HERE\n",
    "        \n",
    "    nfl_df=pd.read_csv(\"assets/nfl.csv\")\n",
    "    cities_df=pd.read_html(\"assets/wikipedia_data.html\")[1]\n",
    "    cities_df=cities_df.iloc[:-1,[0,3,5,6,7,8]]\n",
    "    cities_df.rename({'Population (2016 est.)[8]': 'Population'}, axis=1, inplace=True)\n",
    "    cities_df['Population'] = cities_df['Population'].astype(np.float)\n",
    "    \n",
    "    \n",
    "    nfl_df = pd.read_csv('assets/nfl.csv')\n",
    "    nfl_df = nfl_df[nfl_df['year'] == 2018].drop([0, 5, 10, 15, 20, 25, 30, 35], axis=0)\n",
    "    nfl_df['W-L%'] = nfl_df['W-L%'].astype(np.float)\n",
    "    new_nfl = cities_df[['Metropolitan area', 'NFL']]\n",
    "    new_nfl['team_LName'] = cities_df['NFL'].apply(lambda x: re.findall('[A-Z\\d]+[a-z]+', x))\n",
    "    new_nfl = new_nfl.explode(column='team_LName').dropna().drop('NFL', axis=1)\n",
    "    nfl_df['team_LName'] = nfl_df['team'].apply(lambda x: re.findall('.+\\s([A-Z1-9]+[a-z]+)\\S*', x)[0])\n",
    "    q4 = nfl_df.merge(new_nfl, on='team_LName').groupby('Metropolitan area').agg({'W-L%': 'mean'})\n",
    "    q4 = q4.reset_index().merge(cities_df[['Metropolitan area', 'Population']], on='Metropolitan area').set_index('Metropolitan area')\n",
    "\n",
    "    population_by_region = q4['Population'] # pass in metropolitan area population from cities\n",
    "    win_loss_by_region = q4['W-L%'] # pass in win/loss ratio from nfl_df in the same order as cities[\"Metropolitan area\"]\n",
    "\n",
    "    assert len(population_by_region) == len(win_loss_by_region), \"Q4: Your lists must be the same length\"\n",
    "    assert len(population_by_region) == 29, \"Q4: There should be 29 teams being analysed for NFL\"\n",
    "\n",
    "    return stats.pearsonr(population_by_region, win_loss_by_region)[0]\n",
    "    raise NotImplementedError()\n",
    "    \n",
    "nfl_correlation()"
   ]
  },
  {
   "cell_type": "markdown",
   "metadata": {},
   "source": [
    "## Question 5\n",
    "In this question I would like you to explore the hypothesis that **given that an area has two sports teams in different sports, those teams will perform the same within their respective sports**. How I would like to see this explored is with a series of paired t-tests (so use [`ttest_rel`](https://docs.scipy.org/doc/scipy/reference/generated/scipy.stats.ttest_rel.html)) between all pairs of sports. Are there any sports where we can reject the null hypothesis? Again, average values where a sport has multiple teams in one region. Remember, you will only be including, for each sport, cities which have teams engaged in that sport, drop others as appropriate. This question is worth 20% of the grade for this assignment."
   ]
  },
  {
   "cell_type": "code",
   "execution_count": 9,
   "metadata": {},
   "outputs": [],
   "source": [
    "import pandas as pd\n",
    "import numpy as np\n",
    "import scipy.stats as stats\n",
    "import re\n",
    "\n",
    "\n",
    "def sports_team_performance():\n",
    "    # YOUR CODE HERE\n",
    "    \n",
    "    cities_df = pd.read_html('assets/wikipedia_data.html')[1]\n",
    "    cities_df.rename({'Population (2016 est.)[8]': 'Population'}, axis=1, inplace=True)\n",
    "    cities_df = cities_df.iloc[:-1, :]\n",
    "    cities_df['Population'] = cities_df['Population'].astype(np.float)\n",
    "    \n",
    "    \n",
    "    nhl_df = pd.read_csv('assets/nhl.csv')\n",
    "    nhl_df = nhl_df[nhl_df['year'] == 2018]\n",
    "    metro_nhl = cities_df[['Metropolitan area', 'NHL']]\n",
    "    metro_nhl['team_LName'] = metro_nhl['NHL'].apply(lambda x: re.findall('[A-Z][a-z]+', x))\n",
    "    metro_nhl = metro_nhl.explode(column='team_LName').dropna()\n",
    "    metro_nhl.drop('NHL', axis=1, inplace=True)\n",
    "    nhl_index = metro_nhl['Metropolitan area'].unique()\n",
    "    nhl_df['team_LName'] = nhl_df['team'].apply(lambda x: re.findall('.+\\s([A-Z1-9]+[a-z]+)\\*?', x)[0])\n",
    "    merged_nhl = metro_nhl.merge(nhl_df, on='team_LName')\n",
    "    merged_nhl['W'] = merged_nhl['W'].astype(np.float)\n",
    "    merged_nhl['L'] = merged_nhl['L'].astype(np.float)\n",
    "    merged_nhl['W/L%'] = merged_nhl['W'] / (merged_nhl['W'] + merged_nhl['L'])\n",
    "    grouped_nhl = merged_nhl.groupby('Metropolitan area').agg({'W/L%': 'mean'}).merge(cities_df[['Metropolitan area', 'Population']], on='Metropolitan area')\n",
    "    grouped_nhl.set_index('Metropolitan area', inplace=True)\n",
    "    q1 = grouped_nhl.loc[nhl_index, :]\n",
    "    \n",
    "    \n",
    "    nba_df = pd.read_csv('assets/nba.csv')\n",
    "    nba_df = nba_df[nba_df['year'] == 2018]\n",
    "    nba_df['W/L%'] = nba_df['W/L%'].astype(np.float)\n",
    "    metro_nba = cities_df[['Metropolitan area', 'NBA']]\n",
    "    metro_nba['team_LName'] = metro_nba['NBA'].apply(lambda x: re.findall('[A-Z1-9]+[a-z]+', x))\n",
    "    metro_nba = metro_nba.explode(column='team_LName').dropna()\n",
    "    metro_nba.drop('NBA', axis=1, inplace=True)\n",
    "    nba_index = metro_nba['Metropolitan area'].unique()\n",
    "    nba_df['team_LName'] = nba_df['team'].apply(lambda x: re.findall('.*\\s([A-Z1-9]+[a-z]+)\\*?\\s\\S', x)[0])\n",
    "    merged_nba = nba_df.merge(metro_nba, on='team_LName')\n",
    "    grouped_nba = merged_nba.groupby(by='Metropolitan area').agg({'W/L%': 'mean'})\n",
    "    q2 = grouped_nba.reset_index().merge(cities_df[['Metropolitan area', 'Population']], on='Metropolitan area').set_index('Metropolitan area')\n",
    "    q2 = q2.loc[nba_index, :]\n",
    "    \n",
    "    \n",
    "    mlb_df = pd.read_csv('assets/mlb.csv')\n",
    "    mlb_df = mlb_df[mlb_df['year'] == 2018]\n",
    "    metro_mlb = cities_df[['Metropolitan area', 'MLB']]\n",
    "    metro_mlb['team_LName'] = metro_mlb['MLB'].apply(lambda x: re.findall('[A-Z][a-z]+\\s[A-Z][a-z]+|[A-Z1-9]+[a-z]+', x))\n",
    "    metro_mlb = metro_mlb.explode(column='team_LName').dropna().drop('MLB', axis=1)\n",
    "    mlb_index = metro_mlb['Metropolitan area'].unique()\n",
    "    mlb_df['team_LName'] = mlb_df['team'].apply(lambda x: re.findall('.+\\s([A-Z][a-z]+)', x)[0])\n",
    "    mlb_df.iloc[0, -1] = 'Red Sox'\n",
    "    mlb_df.iloc[8, -1] = 'White Sox'\n",
    "    mlb_df.iloc[3, -1] = 'Blue Jays'\n",
    "    merged_mlb = mlb_df.merge(metro_mlb, on='team_LName')\n",
    "    grouped_mlb = merged_mlb.groupby(by='Metropolitan area').agg({'W-L%': 'mean'})\n",
    "    q3 = grouped_mlb.reset_index().merge(cities_df[['Metropolitan area', 'Population']], on='Metropolitan area').set_index('Metropolitan area')\n",
    "    q3 = q3.loc[mlb_index, :]\n",
    "    \n",
    "    \n",
    "    nfl_df = pd.read_csv('assets/nfl.csv')\n",
    "    nfl_df = nfl_df[nfl_df['year'] == 2018]\n",
    "    nfl_df.drop([0, 5, 10, 15, 20, 25, 30, 35], axis=0, inplace=True)\n",
    "    nfl_df['W-L%'] = nfl_df['W-L%'].astype(np.float)\n",
    "    metro_nfl = cities_df[['Metropolitan area', 'NFL']]\n",
    "    metro_nfl['team_LName'] = metro_nfl['NFL'].apply(lambda x: re.findall('[A-Z1-9]+[a-z]+', x))\n",
    "    metro_nfl = metro_nfl.explode(column='team_LName').dropna().drop('NFL', axis=1)\n",
    "    nfl_index = metro_nfl['Metropolitan area'].unique()\n",
    "    nfl_df['team_LName'] = nfl_df['team'].apply(lambda x: re.findall('.*\\s([A-Z1-9]+[a-z]+)\\S*', x)[0])\n",
    "    merged_nfl = nfl_df.merge(metro_nfl, on='team_LName')\n",
    "    grouped_nfl = merged_nfl.groupby(by='Metropolitan area').agg({'W-L%': 'mean'})\n",
    "    q4 = grouped_nfl.reset_index().merge(cities_df[['Metropolitan area', 'Population']], on='Metropolitan area').set_index('Metropolitan area')\n",
    "    q4 = q4.loc[nfl_index, :]\n",
    "    \n",
    "    \n",
    "    sports = ['NFL', 'NBA', 'NHL', 'MLB']\n",
    "    p_values = pd.DataFrame({k:np.nan for k in sports}, index=sports)\n",
    "    \n",
    "    q1_nhl = q1.copy()\n",
    "    q2_nba = q2.copy()\n",
    "    q3_mlb = q3.copy()\n",
    "    q4_nfl = q4.copy()\n",
    "    \n",
    "    nfl_nba = pd.merge(q4_nfl, q2_nba, right_index=True, left_index=True)\n",
    "    p_values.loc['NFL', 'NBA'] = stats.ttest_rel(nfl_nba.iloc[:, 0], nfl_nba.iloc[:, 2])[1]\n",
    "    p_values.loc['NBA', 'NFL'] = p_values.loc['NFL', 'NBA']\n",
    "    \n",
    "    nfl_nhl = pd.merge(q1_nhl, q4_nfl, right_index=True, left_index=True)\n",
    "    p_values.loc['NHL', 'NFL'] = stats.ttest_rel(nfl_nhl.iloc[:, 0], nfl_nhl.iloc[:, 2])[1]\n",
    "    p_values.loc['NFL', 'NHL'] = p_values.loc['NHL', 'NFL']\n",
    "    \n",
    "    nfl_mlb = pd.merge(q3_mlb, q4_nfl, right_index=True, left_index=True)\n",
    "    p_values.loc['NFL', 'MLB'] = stats.ttest_rel(nfl_mlb.iloc[:, 0], nfl_mlb.iloc[:, 2])[1]\n",
    "    p_values.loc['MLB', 'NFL'] = p_values.loc['NFL', 'MLB']\n",
    "    \n",
    "    nba_nhl = pd.merge(q1_nhl, q2_nba, right_index=True, left_index=True)\n",
    "    p_values.loc['NBA', 'NHL'] = stats.ttest_rel(nba_nhl.iloc[:, 0], nba_nhl.iloc[:, 2])[1]\n",
    "    p_values.loc['NHL', 'NBA'] = p_values.loc['NBA', 'NHL']\n",
    "    \n",
    "    nba_mlb = pd.merge(q2_nba, q3_mlb, left_index=True, right_index=True)\n",
    "    p_values.loc['NBA', 'MLB'] = stats.ttest_rel(nba_mlb.iloc[:, 0], nba_mlb.iloc[:, 2])[1]\n",
    "    p_values.loc['MLB', 'NBA'] = p_values.loc['NBA', 'MLB']\n",
    "    \n",
    "    nhl_mlb = pd.merge(q1_nhl, q3_mlb, left_index=True, right_index=True)\n",
    "    p_values.loc['NHL', 'MLB'] = stats.ttest_rel(nhl_mlb.iloc[:, 0], nhl_mlb.iloc[:, 2])[1]\n",
    "    p_values.loc['MLB', 'NHL'] = p_values.loc['NHL', 'MLB']\n",
    "    \n",
    "    \n",
    "    # Note: p_values is a full dataframe, so df.loc[\"NFL\",\"NBA\"] should be the same as df.loc[\"NBA\",\"NFL\"] and\n",
    "    # df.loc[\"NFL\",\"NFL\"] should return np.nan\n",
    "    \n",
    "    assert abs(p_values.loc[\"NBA\", \"NHL\"] - 0.02) <= 1e-2, \"The NBA-NHL p-value should be around 0.02\"\n",
    "    assert abs(p_values.loc[\"MLB\", \"NFL\"] - 0.80) <= 1e-2, \"The MLB-NFL p-value should be around 0.80\"\n",
    "    return p_values\n",
    "\n",
    "\n",
    "    raise NotImplementedError()\n",
    "\n",
    "#sports_team_performance()"
   ]
  },
  {
   "cell_type": "code",
   "execution_count": null,
   "metadata": {},
   "outputs": [],
   "source": []
  }
 ],
 "metadata": {
  "kernelspec": {
   "display_name": "Python 3",
   "language": "python",
   "name": "python3"
  },
  "language_info": {
   "codemirror_mode": {
    "name": "ipython",
    "version": 3
   },
   "file_extension": ".py",
   "mimetype": "text/x-python",
   "name": "python",
   "nbconvert_exporter": "python",
   "pygments_lexer": "ipython3",
   "version": "3.7.6"
  }
 },
 "nbformat": 4,
 "nbformat_minor": 4
}
