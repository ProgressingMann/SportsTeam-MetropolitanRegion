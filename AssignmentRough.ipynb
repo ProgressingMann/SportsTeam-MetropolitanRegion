{
 "cells": [
  {
   "cell_type": "code",
   "execution_count": 1,
   "metadata": {},
   "outputs": [],
   "source": [
    "import pandas as pd\n",
    "import numpy as np\n",
    "from scipy import stats\n",
    "import re"
   ]
  },
  {
   "cell_type": "markdown",
   "metadata": {},
   "source": [
    "# Question 1"
   ]
  },
  {
   "cell_type": "markdown",
   "metadata": {},
   "source": [
    "## Import Cities and NHL Dataset "
   ]
  },
  {
   "cell_type": "code",
   "execution_count": 2,
   "metadata": {},
   "outputs": [],
   "source": [
    "nhl_df = pd.read_csv('assets/nhl.csv')"
   ]
  },
  {
   "cell_type": "code",
   "execution_count": 3,
   "metadata": {},
   "outputs": [],
   "source": [
    "#nhl_df.head()"
   ]
  },
  {
   "cell_type": "code",
   "execution_count": 4,
   "metadata": {},
   "outputs": [],
   "source": [
    "nhl_df = nhl_df[nhl_df['year'] == 2018]"
   ]
  },
  {
   "cell_type": "code",
   "execution_count": 104,
   "metadata": {},
   "outputs": [
    {
     "data": {
      "text/html": [
       "<div>\n",
       "<style scoped>\n",
       "    .dataframe tbody tr th:only-of-type {\n",
       "        vertical-align: middle;\n",
       "    }\n",
       "\n",
       "    .dataframe tbody tr th {\n",
       "        vertical-align: top;\n",
       "    }\n",
       "\n",
       "    .dataframe thead th {\n",
       "        text-align: right;\n",
       "    }\n",
       "</style>\n",
       "<table border=\"1\" class=\"dataframe\">\n",
       "  <thead>\n",
       "    <tr style=\"text-align: right;\">\n",
       "      <th></th>\n",
       "      <th>team</th>\n",
       "      <th>GP</th>\n",
       "      <th>W</th>\n",
       "      <th>L</th>\n",
       "      <th>OL</th>\n",
       "      <th>PTS</th>\n",
       "      <th>PTS%</th>\n",
       "      <th>GF</th>\n",
       "      <th>GA</th>\n",
       "      <th>SRS</th>\n",
       "      <th>SOS</th>\n",
       "      <th>RPt%</th>\n",
       "      <th>ROW</th>\n",
       "      <th>year</th>\n",
       "      <th>League</th>\n",
       "      <th>team_LName</th>\n",
       "    </tr>\n",
       "  </thead>\n",
       "  <tbody>\n",
       "    <tr>\n",
       "      <th>0</th>\n",
       "      <td>Atlantic Division</td>\n",
       "      <td>Atlantic Division</td>\n",
       "      <td>Atlantic Division</td>\n",
       "      <td>Atlantic Division</td>\n",
       "      <td>Atlantic Division</td>\n",
       "      <td>Atlantic Division</td>\n",
       "      <td>Atlantic Division</td>\n",
       "      <td>Atlantic Division</td>\n",
       "      <td>Atlantic Division</td>\n",
       "      <td>Atlantic Division</td>\n",
       "      <td>Atlantic Division</td>\n",
       "      <td>Atlantic Division</td>\n",
       "      <td>Atlantic Division</td>\n",
       "      <td>2018</td>\n",
       "      <td>NHL</td>\n",
       "      <td>Division</td>\n",
       "    </tr>\n",
       "    <tr>\n",
       "      <th>1</th>\n",
       "      <td>Tampa Bay Lightning*</td>\n",
       "      <td>82</td>\n",
       "      <td>54</td>\n",
       "      <td>23</td>\n",
       "      <td>5</td>\n",
       "      <td>113</td>\n",
       "      <td>.689</td>\n",
       "      <td>296</td>\n",
       "      <td>236</td>\n",
       "      <td>0.66</td>\n",
       "      <td>-0.07</td>\n",
       "      <td>.634</td>\n",
       "      <td>48</td>\n",
       "      <td>2018</td>\n",
       "      <td>NHL</td>\n",
       "      <td>Lightning</td>\n",
       "    </tr>\n",
       "    <tr>\n",
       "      <th>2</th>\n",
       "      <td>Boston Bruins*</td>\n",
       "      <td>82</td>\n",
       "      <td>50</td>\n",
       "      <td>20</td>\n",
       "      <td>12</td>\n",
       "      <td>112</td>\n",
       "      <td>.683</td>\n",
       "      <td>270</td>\n",
       "      <td>214</td>\n",
       "      <td>0.62</td>\n",
       "      <td>-0.07</td>\n",
       "      <td>.610</td>\n",
       "      <td>47</td>\n",
       "      <td>2018</td>\n",
       "      <td>NHL</td>\n",
       "      <td>Bruins</td>\n",
       "    </tr>\n",
       "    <tr>\n",
       "      <th>3</th>\n",
       "      <td>Toronto Maple Leafs*</td>\n",
       "      <td>82</td>\n",
       "      <td>49</td>\n",
       "      <td>26</td>\n",
       "      <td>7</td>\n",
       "      <td>105</td>\n",
       "      <td>.640</td>\n",
       "      <td>277</td>\n",
       "      <td>232</td>\n",
       "      <td>0.49</td>\n",
       "      <td>-0.06</td>\n",
       "      <td>.567</td>\n",
       "      <td>42</td>\n",
       "      <td>2018</td>\n",
       "      <td>NHL</td>\n",
       "      <td>Leafs</td>\n",
       "    </tr>\n",
       "    <tr>\n",
       "      <th>4</th>\n",
       "      <td>Florida Panthers</td>\n",
       "      <td>82</td>\n",
       "      <td>44</td>\n",
       "      <td>30</td>\n",
       "      <td>8</td>\n",
       "      <td>96</td>\n",
       "      <td>.585</td>\n",
       "      <td>248</td>\n",
       "      <td>246</td>\n",
       "      <td>-0.01</td>\n",
       "      <td>-0.04</td>\n",
       "      <td>.537</td>\n",
       "      <td>41</td>\n",
       "      <td>2018</td>\n",
       "      <td>NHL</td>\n",
       "      <td>Panthers</td>\n",
       "    </tr>\n",
       "  </tbody>\n",
       "</table>\n",
       "</div>"
      ],
      "text/plain": [
       "                   team                 GP                  W  \\\n",
       "0     Atlantic Division  Atlantic Division  Atlantic Division   \n",
       "1  Tampa Bay Lightning*                 82                 54   \n",
       "2        Boston Bruins*                 82                 50   \n",
       "3  Toronto Maple Leafs*                 82                 49   \n",
       "4      Florida Panthers                 82                 44   \n",
       "\n",
       "                   L                 OL                PTS               PTS%  \\\n",
       "0  Atlantic Division  Atlantic Division  Atlantic Division  Atlantic Division   \n",
       "1                 23                  5                113               .689   \n",
       "2                 20                 12                112               .683   \n",
       "3                 26                  7                105               .640   \n",
       "4                 30                  8                 96               .585   \n",
       "\n",
       "                  GF                 GA                SRS                SOS  \\\n",
       "0  Atlantic Division  Atlantic Division  Atlantic Division  Atlantic Division   \n",
       "1                296                236               0.66              -0.07   \n",
       "2                270                214               0.62              -0.07   \n",
       "3                277                232               0.49              -0.06   \n",
       "4                248                246              -0.01              -0.04   \n",
       "\n",
       "                RPt%                ROW  year League team_LName  \n",
       "0  Atlantic Division  Atlantic Division  2018    NHL   Division  \n",
       "1               .634                 48  2018    NHL  Lightning  \n",
       "2               .610                 47  2018    NHL     Bruins  \n",
       "3               .567                 42  2018    NHL      Leafs  \n",
       "4               .537                 41  2018    NHL   Panthers  "
      ]
     },
     "execution_count": 104,
     "metadata": {},
     "output_type": "execute_result"
    }
   ],
   "source": [
    "#nhl_df.head()"
   ]
  },
  {
   "cell_type": "code",
   "execution_count": 6,
   "metadata": {},
   "outputs": [],
   "source": [
    "cities_df = pd.read_html('assets/wikipedia_data.html')[1]"
   ]
  },
  {
   "cell_type": "code",
   "execution_count": 7,
   "metadata": {},
   "outputs": [],
   "source": [
    "#cities_df.head()"
   ]
  },
  {
   "cell_type": "code",
   "execution_count": 8,
   "metadata": {},
   "outputs": [],
   "source": [
    "cities_df.rename({'Population (2016 est.)[8]': 'Population'}, axis=1, inplace=True)"
   ]
  },
  {
   "cell_type": "code",
   "execution_count": 9,
   "metadata": {},
   "outputs": [],
   "source": [
    "new_nhl = cities_df[['Metropolitan area', 'NHL']]"
   ]
  },
  {
   "cell_type": "code",
   "execution_count": 10,
   "metadata": {},
   "outputs": [
    {
     "name": "stderr",
     "output_type": "stream",
     "text": [
      "C:\\Users\\Mann\\anaconda3\\lib\\site-packages\\ipykernel_launcher.py:1: SettingWithCopyWarning: \n",
      "A value is trying to be set on a copy of a slice from a DataFrame.\n",
      "Try using .loc[row_indexer,col_indexer] = value instead\n",
      "\n",
      "See the caveats in the documentation: https://pandas.pydata.org/pandas-docs/stable/user_guide/indexing.html#returning-a-view-versus-a-copy\n",
      "  \"\"\"Entry point for launching an IPython kernel.\n"
     ]
    }
   ],
   "source": [
    "new_nhl['LName'] = new_nhl['NHL'].apply(lambda x: re.findall('[A-Z][a-z]+', x))"
   ]
  },
  {
   "cell_type": "code",
   "execution_count": 11,
   "metadata": {},
   "outputs": [],
   "source": [
    "new_nhl = new_nhl.explode(column='LName').drop('NHL', axis=1).dropna()"
   ]
  },
  {
   "cell_type": "code",
   "execution_count": 12,
   "metadata": {},
   "outputs": [],
   "source": [
    "new_nhl.rename({'LName': 'team_LName'}, axis=1, inplace=True)"
   ]
  },
  {
   "cell_type": "code",
   "execution_count": 13,
   "metadata": {},
   "outputs": [],
   "source": [
    "#new_nhl.head()"
   ]
  },
  {
   "cell_type": "code",
   "execution_count": 14,
   "metadata": {},
   "outputs": [],
   "source": [
    "nhlteams_index = new_nhl['Metropolitan area'].unique()"
   ]
  },
  {
   "cell_type": "code",
   "execution_count": 15,
   "metadata": {},
   "outputs": [],
   "source": [
    "nhl_df['team_LName'] = nhl_df['team'].apply(lambda x: re.findall('.+\\s(\\w+)\\*?', x)[-1])"
   ]
  },
  {
   "cell_type": "code",
   "execution_count": 16,
   "metadata": {},
   "outputs": [],
   "source": [
    "#nhl_df.head()"
   ]
  },
  {
   "cell_type": "code",
   "execution_count": 17,
   "metadata": {},
   "outputs": [],
   "source": [
    "nhl_cities = nhl_df.merge(new_nhl, right_on='team_LName', left_on='team_LName')"
   ]
  },
  {
   "cell_type": "code",
   "execution_count": 18,
   "metadata": {},
   "outputs": [],
   "source": [
    "#nhl_cities.head()"
   ]
  },
  {
   "cell_type": "code",
   "execution_count": 19,
   "metadata": {},
   "outputs": [],
   "source": [
    "nhl_cities['W'] = nhl_cities['W'].astype(int)\n",
    "nhl_cities['L'] = nhl_cities['L'].astype(int)"
   ]
  },
  {
   "cell_type": "code",
   "execution_count": 20,
   "metadata": {
    "scrolled": true
   },
   "outputs": [],
   "source": [
    "nhl_cities['W/L_%'] = nhl_cities['W'] / (nhl_cities['L'] + nhl_cities['W'])"
   ]
  },
  {
   "cell_type": "code",
   "execution_count": 21,
   "metadata": {},
   "outputs": [],
   "source": [
    "#nhl_cities.head()"
   ]
  },
  {
   "cell_type": "code",
   "execution_count": 22,
   "metadata": {
    "scrolled": true
   },
   "outputs": [],
   "source": [
    "nhl_cities_merged = nhl_cities.groupby('Metropolitan area').agg({'W/L_%': 'mean'}).sort_index()"
   ]
  },
  {
   "cell_type": "code",
   "execution_count": 23,
   "metadata": {},
   "outputs": [],
   "source": [
    "#cities_df.head()"
   ]
  },
  {
   "cell_type": "code",
   "execution_count": null,
   "metadata": {},
   "outputs": [],
   "source": []
  },
  {
   "cell_type": "code",
   "execution_count": 24,
   "metadata": {},
   "outputs": [],
   "source": [
    "q1 = nhl_cities_merged.merge(cities_df[['Metropolitan area', 'Population']], on='Metropolitan area')"
   ]
  },
  {
   "cell_type": "code",
   "execution_count": 25,
   "metadata": {},
   "outputs": [],
   "source": [
    "q1 = q1.set_index('Metropolitan area').loc[nhlteams_index]"
   ]
  },
  {
   "cell_type": "code",
   "execution_count": 26,
   "metadata": {},
   "outputs": [
    {
     "data": {
      "text/html": [
       "<div>\n",
       "<style scoped>\n",
       "    .dataframe tbody tr th:only-of-type {\n",
       "        vertical-align: middle;\n",
       "    }\n",
       "\n",
       "    .dataframe tbody tr th {\n",
       "        vertical-align: top;\n",
       "    }\n",
       "\n",
       "    .dataframe thead th {\n",
       "        text-align: right;\n",
       "    }\n",
       "</style>\n",
       "<table border=\"1\" class=\"dataframe\">\n",
       "  <thead>\n",
       "    <tr style=\"text-align: right;\">\n",
       "      <th></th>\n",
       "      <th>W/L_%</th>\n",
       "      <th>Population</th>\n",
       "    </tr>\n",
       "    <tr>\n",
       "      <th>Metropolitan area</th>\n",
       "      <th></th>\n",
       "      <th></th>\n",
       "    </tr>\n",
       "  </thead>\n",
       "  <tbody>\n",
       "    <tr>\n",
       "      <th>New York City</th>\n",
       "      <td>0.518201</td>\n",
       "      <td>20153634</td>\n",
       "    </tr>\n",
       "    <tr>\n",
       "      <th>Los Angeles</th>\n",
       "      <td>0.622895</td>\n",
       "      <td>13310447</td>\n",
       "    </tr>\n",
       "    <tr>\n",
       "      <th>San Francisco Bay Area</th>\n",
       "      <td>0.625000</td>\n",
       "      <td>6657982</td>\n",
       "    </tr>\n",
       "    <tr>\n",
       "      <th>Chicago</th>\n",
       "      <td>0.458333</td>\n",
       "      <td>9512999</td>\n",
       "    </tr>\n",
       "    <tr>\n",
       "      <th>Dallas–Fort Worth</th>\n",
       "      <td>0.567568</td>\n",
       "      <td>7233323</td>\n",
       "    </tr>\n",
       "  </tbody>\n",
       "</table>\n",
       "</div>"
      ],
      "text/plain": [
       "                           W/L_% Population\n",
       "Metropolitan area                          \n",
       "New York City           0.518201   20153634\n",
       "Los Angeles             0.622895   13310447\n",
       "San Francisco Bay Area  0.625000    6657982\n",
       "Chicago                 0.458333    9512999\n",
       "Dallas–Fort Worth       0.567568    7233323"
      ]
     },
     "execution_count": 26,
     "metadata": {},
     "output_type": "execute_result"
    }
   ],
   "source": [
    "q1.head()"
   ]
  },
  {
   "cell_type": "code",
   "execution_count": 27,
   "metadata": {},
   "outputs": [],
   "source": [
    "#cities_df=cities_df.iloc[:-1,[0,3,5,6,7,8]]"
   ]
  },
  {
   "cell_type": "code",
   "execution_count": 28,
   "metadata": {},
   "outputs": [],
   "source": [
    "#cities_df"
   ]
  },
  {
   "cell_type": "code",
   "execution_count": 29,
   "metadata": {},
   "outputs": [],
   "source": [
    "q1['Population'] = q1['Population'].astype(np.float)"
   ]
  },
  {
   "cell_type": "code",
   "execution_count": 30,
   "metadata": {},
   "outputs": [
    {
     "data": {
      "text/plain": [
       "(0.012486162921209909, 0.9497182859911791)"
      ]
     },
     "execution_count": 30,
     "metadata": {},
     "output_type": "execute_result"
    }
   ],
   "source": [
    "stats.pearsonr(q1['W/L_%'], q1['Population'])"
   ]
  },
  {
   "cell_type": "code",
   "execution_count": null,
   "metadata": {},
   "outputs": [],
   "source": []
  },
  {
   "cell_type": "markdown",
   "metadata": {},
   "source": [
    "\n",
    "# Question 2"
   ]
  },
  {
   "cell_type": "markdown",
   "metadata": {},
   "source": [
    "## Import NBA Dataset"
   ]
  },
  {
   "cell_type": "code",
   "execution_count": 31,
   "metadata": {},
   "outputs": [],
   "source": [
    "nba_df = pd.read_csv('assets/nba.csv')"
   ]
  },
  {
   "cell_type": "code",
   "execution_count": 32,
   "metadata": {},
   "outputs": [],
   "source": [
    "nba_df = nba_df[nba_df['year'] == 2018]"
   ]
  },
  {
   "cell_type": "code",
   "execution_count": 33,
   "metadata": {
    "scrolled": true
   },
   "outputs": [],
   "source": [
    "#nba_df.head()"
   ]
  },
  {
   "cell_type": "code",
   "execution_count": 34,
   "metadata": {},
   "outputs": [],
   "source": [
    "#cities_df.head()"
   ]
  },
  {
   "cell_type": "code",
   "execution_count": 35,
   "metadata": {},
   "outputs": [],
   "source": [
    "#re.findall('[A-Z\\d]+[a-z]+', cities_df['NBA'][6])"
   ]
  },
  {
   "cell_type": "code",
   "execution_count": 36,
   "metadata": {},
   "outputs": [
    {
     "name": "stderr",
     "output_type": "stream",
     "text": [
      "C:\\Users\\Mann\\anaconda3\\lib\\site-packages\\ipykernel_launcher.py:2: SettingWithCopyWarning: \n",
      "A value is trying to be set on a copy of a slice from a DataFrame.\n",
      "Try using .loc[row_indexer,col_indexer] = value instead\n",
      "\n",
      "See the caveats in the documentation: https://pandas.pydata.org/pandas-docs/stable/user_guide/indexing.html#returning-a-view-versus-a-copy\n",
      "  \n"
     ]
    }
   ],
   "source": [
    "new_nba = cities_df[['Metropolitan area', 'NBA']]\n",
    "new_nba['team_LName'] = cities_df['NBA'].apply(lambda x: re.findall('[A-Z\\d]+[a-z]+', x))"
   ]
  },
  {
   "cell_type": "code",
   "execution_count": 37,
   "metadata": {
    "scrolled": true
   },
   "outputs": [],
   "source": [
    "#new_nba"
   ]
  },
  {
   "cell_type": "code",
   "execution_count": 38,
   "metadata": {},
   "outputs": [],
   "source": [
    "new_nba = new_nba.explode(column='team_LName').dropna().drop('NBA', axis=1)"
   ]
  },
  {
   "cell_type": "code",
   "execution_count": 39,
   "metadata": {},
   "outputs": [],
   "source": [
    "#new_nba.shape"
   ]
  },
  {
   "cell_type": "code",
   "execution_count": 40,
   "metadata": {},
   "outputs": [],
   "source": [
    "#nba_df.head()"
   ]
  },
  {
   "cell_type": "code",
   "execution_count": 41,
   "metadata": {},
   "outputs": [],
   "source": [
    "#re.findall('[a-zA-Z\\s]+\\s([1-9a-zA-Z]+)\\*?\\s\\S+', nba_df['team'][2])[0]"
   ]
  },
  {
   "cell_type": "code",
   "execution_count": 42,
   "metadata": {},
   "outputs": [],
   "source": [
    "#nba_df['team'][]"
   ]
  },
  {
   "cell_type": "code",
   "execution_count": 43,
   "metadata": {},
   "outputs": [],
   "source": [
    "nba_df['team_LName'] = nba_df['team'].apply(lambda x: re.findall('[a-zA-Z\\s]+\\s([1-9a-zA-Z]+)\\*?\\s\\S+', x)[0])"
   ]
  },
  {
   "cell_type": "code",
   "execution_count": 44,
   "metadata": {},
   "outputs": [],
   "source": [
    "#nba_df.head()"
   ]
  },
  {
   "cell_type": "code",
   "execution_count": 45,
   "metadata": {},
   "outputs": [],
   "source": [
    "nba_df['W/L%'] = nba_df['W/L%'].astype(np.float)"
   ]
  },
  {
   "cell_type": "code",
   "execution_count": 46,
   "metadata": {},
   "outputs": [],
   "source": [
    "#nba_df.merge(new_nba, on='team_LName')"
   ]
  },
  {
   "cell_type": "code",
   "execution_count": 47,
   "metadata": {
    "scrolled": true
   },
   "outputs": [],
   "source": [
    "nba_cities_merged = new_nba.merge(nba_df, on='team_LName').groupby('Metropolitan area').agg({'W/L%': 'mean'}).reset_index()"
   ]
  },
  {
   "cell_type": "code",
   "execution_count": null,
   "metadata": {},
   "outputs": [],
   "source": []
  },
  {
   "cell_type": "code",
   "execution_count": 48,
   "metadata": {},
   "outputs": [],
   "source": [
    "#nba_cities_merged"
   ]
  },
  {
   "cell_type": "code",
   "execution_count": 49,
   "metadata": {},
   "outputs": [],
   "source": [
    "q2 = cities_df.merge(nba_cities_merged, on='Metropolitan area')[['Metropolitan area', 'W/L%', 'Population']].set_index('Metropolitan area')"
   ]
  },
  {
   "cell_type": "code",
   "execution_count": 50,
   "metadata": {},
   "outputs": [],
   "source": [
    "q2['Population'] = q2['Population'].astype(np.float)"
   ]
  },
  {
   "cell_type": "code",
   "execution_count": 51,
   "metadata": {},
   "outputs": [
    {
     "data": {
      "text/plain": [
       "(-0.17636350642182935, 0.36932106185547353)"
      ]
     },
     "execution_count": 51,
     "metadata": {},
     "output_type": "execute_result"
    }
   ],
   "source": [
    "stats.pearsonr(q2['Population'], q2['W/L%'])"
   ]
  },
  {
   "cell_type": "markdown",
   "metadata": {},
   "source": [
    "# Question 3"
   ]
  },
  {
   "cell_type": "markdown",
   "metadata": {},
   "source": [
    "## Import MLB Dataset"
   ]
  },
  {
   "cell_type": "code",
   "execution_count": 52,
   "metadata": {},
   "outputs": [],
   "source": [
    "mlb_df = pd.read_csv('assets/mlb.csv')"
   ]
  },
  {
   "cell_type": "code",
   "execution_count": 53,
   "metadata": {},
   "outputs": [],
   "source": [
    "mlb_df = mlb_df[mlb_df['year'] == 2018]"
   ]
  },
  {
   "cell_type": "code",
   "execution_count": 54,
   "metadata": {},
   "outputs": [],
   "source": [
    "#mlb_df.shape"
   ]
  },
  {
   "cell_type": "code",
   "execution_count": 55,
   "metadata": {},
   "outputs": [],
   "source": [
    "#cities_df.head()"
   ]
  },
  {
   "cell_type": "code",
   "execution_count": 56,
   "metadata": {},
   "outputs": [],
   "source": [
    "new_mlb = cities_df[['Metropolitan area', 'MLB']]"
   ]
  },
  {
   "cell_type": "code",
   "execution_count": 57,
   "metadata": {},
   "outputs": [
    {
     "name": "stderr",
     "output_type": "stream",
     "text": [
      "C:\\Users\\Mann\\anaconda3\\lib\\site-packages\\pandas\\core\\indexing.py:844: SettingWithCopyWarning: \n",
      "A value is trying to be set on a copy of a slice from a DataFrame.\n",
      "Try using .loc[row_indexer,col_indexer] = value instead\n",
      "\n",
      "See the caveats in the documentation: https://pandas.pydata.org/pandas-docs/stable/user_guide/indexing.html#returning-a-view-versus-a-copy\n",
      "  self.obj[key] = _infer_fill_value(value)\n",
      "C:\\Users\\Mann\\anaconda3\\lib\\site-packages\\pandas\\core\\indexing.py:965: SettingWithCopyWarning: \n",
      "A value is trying to be set on a copy of a slice from a DataFrame.\n",
      "Try using .loc[row_indexer,col_indexer] = value instead\n",
      "\n",
      "See the caveats in the documentation: https://pandas.pydata.org/pandas-docs/stable/user_guide/indexing.html#returning-a-view-versus-a-copy\n",
      "  self.obj[item] = s\n"
     ]
    }
   ],
   "source": [
    "new_mlb.loc[:, 'team_LName'] = cities_df.loc[:, 'MLB'].apply(lambda x: re.findall('[A-Z][a-z]+\\s[A-Z][a-z]+|[A-Z][a-z]+', x))"
   ]
  },
  {
   "cell_type": "code",
   "execution_count": 58,
   "metadata": {},
   "outputs": [],
   "source": [
    "new_mlb = new_mlb.explode(column='team_LName').dropna().drop('MLB', axis=1)"
   ]
  },
  {
   "cell_type": "code",
   "execution_count": 59,
   "metadata": {},
   "outputs": [],
   "source": [
    "mlb_index = new_mlb['Metropolitan area'].unique()"
   ]
  },
  {
   "cell_type": "code",
   "execution_count": 60,
   "metadata": {},
   "outputs": [],
   "source": [
    "#mlb_df.head()"
   ]
  },
  {
   "cell_type": "code",
   "execution_count": 61,
   "metadata": {},
   "outputs": [],
   "source": [
    "mlb_df.loc[:, 'team_LName'] = mlb_df.loc[:, 'team'].apply(lambda x: re.findall('.+\\s([A-Z][a-z]+)', x)[0])"
   ]
  },
  {
   "cell_type": "code",
   "execution_count": 62,
   "metadata": {},
   "outputs": [],
   "source": [
    "mlb_df.loc[0, 'team_LName'] = 'Red Sox'\n",
    "mlb_df.loc[8, 'team_LName'] = 'White Sox'\n",
    "mlb_df.loc[3, 'team_LName'] = 'Blue Jays'"
   ]
  },
  {
   "cell_type": "code",
   "execution_count": 63,
   "metadata": {},
   "outputs": [],
   "source": [
    "#mlb_df"
   ]
  },
  {
   "cell_type": "code",
   "execution_count": 64,
   "metadata": {
    "scrolled": true
   },
   "outputs": [],
   "source": [
    "#new_mlb"
   ]
  },
  {
   "cell_type": "code",
   "execution_count": 65,
   "metadata": {},
   "outputs": [],
   "source": [
    "q3 = new_mlb.merge(mlb_df, on='team_LName').groupby('Metropolitan area').agg({'W-L%': 'mean'}).loc[mlb_index, :]"
   ]
  },
  {
   "cell_type": "code",
   "execution_count": 66,
   "metadata": {},
   "outputs": [],
   "source": [
    "q3 = q3.reset_index().merge(cities_df[['Metropolitan area', 'Population']], on='Metropolitan area').set_index('Metropolitan area')"
   ]
  },
  {
   "cell_type": "code",
   "execution_count": 67,
   "metadata": {},
   "outputs": [],
   "source": [
    "q3['W-L%'] = q3['W-L%'].astype(np.float)\n",
    "q3['Population'] = q3['Population'].astype(np.float)"
   ]
  },
  {
   "cell_type": "code",
   "execution_count": 68,
   "metadata": {},
   "outputs": [],
   "source": [
    "#q3"
   ]
  },
  {
   "cell_type": "code",
   "execution_count": 69,
   "metadata": {},
   "outputs": [
    {
     "data": {
      "text/plain": [
       "(0.15003737475409495, 0.46442827201123427)"
      ]
     },
     "execution_count": 69,
     "metadata": {},
     "output_type": "execute_result"
    }
   ],
   "source": [
    "stats.pearsonr(q3['W-L%'], q3['Population'])"
   ]
  },
  {
   "cell_type": "code",
   "execution_count": null,
   "metadata": {},
   "outputs": [],
   "source": []
  },
  {
   "cell_type": "code",
   "execution_count": null,
   "metadata": {},
   "outputs": [],
   "source": []
  },
  {
   "cell_type": "markdown",
   "metadata": {},
   "source": [
    "# Question 4"
   ]
  },
  {
   "cell_type": "markdown",
   "metadata": {},
   "source": [
    "## Import NFL Dataset"
   ]
  },
  {
   "cell_type": "code",
   "execution_count": 70,
   "metadata": {},
   "outputs": [],
   "source": [
    "nfl_df = pd.read_csv('assets/nfl.csv')"
   ]
  },
  {
   "cell_type": "code",
   "execution_count": 71,
   "metadata": {},
   "outputs": [],
   "source": [
    "nfl_df = nfl_df[nfl_df['year'] == 2018].drop([0, 5, 10, 15, 20, 25, 30, 35], axis=0)"
   ]
  },
  {
   "cell_type": "code",
   "execution_count": 72,
   "metadata": {},
   "outputs": [],
   "source": [
    "#nfl_df.head()"
   ]
  },
  {
   "cell_type": "code",
   "execution_count": 73,
   "metadata": {},
   "outputs": [],
   "source": [
    "nfl_df['W-L%'] = nfl_df['W-L%'].astype(np.float)"
   ]
  },
  {
   "cell_type": "code",
   "execution_count": 74,
   "metadata": {},
   "outputs": [],
   "source": [
    "#cities_df.head()"
   ]
  },
  {
   "cell_type": "code",
   "execution_count": 75,
   "metadata": {},
   "outputs": [],
   "source": [
    "new_nfl = cities_df[['Metropolitan area', 'NFL']]"
   ]
  },
  {
   "cell_type": "code",
   "execution_count": 76,
   "metadata": {},
   "outputs": [
    {
     "name": "stderr",
     "output_type": "stream",
     "text": [
      "C:\\Users\\Mann\\anaconda3\\lib\\site-packages\\ipykernel_launcher.py:1: SettingWithCopyWarning: \n",
      "A value is trying to be set on a copy of a slice from a DataFrame.\n",
      "Try using .loc[row_indexer,col_indexer] = value instead\n",
      "\n",
      "See the caveats in the documentation: https://pandas.pydata.org/pandas-docs/stable/user_guide/indexing.html#returning-a-view-versus-a-copy\n",
      "  \"\"\"Entry point for launching an IPython kernel.\n"
     ]
    }
   ],
   "source": [
    "new_nfl['team_LName'] = cities_df['NFL'].apply(lambda x: re.findall('[A-Z\\d]+[a-z]+', x))"
   ]
  },
  {
   "cell_type": "code",
   "execution_count": 77,
   "metadata": {},
   "outputs": [],
   "source": [
    "new_nfl = new_nfl.explode(column='team_LName').dropna().drop('NFL', axis=1)"
   ]
  },
  {
   "cell_type": "code",
   "execution_count": 78,
   "metadata": {},
   "outputs": [],
   "source": [
    "#new_nfl.head()"
   ]
  },
  {
   "cell_type": "code",
   "execution_count": 79,
   "metadata": {},
   "outputs": [],
   "source": [
    "#nfl_df"
   ]
  },
  {
   "cell_type": "code",
   "execution_count": 80,
   "metadata": {},
   "outputs": [],
   "source": [
    "nfl_df['team_LName'] = nfl_df['team'].apply(lambda x: re.findall('.+\\s([A-Z1-9]+[a-z]+)\\S*', x)[0])"
   ]
  },
  {
   "cell_type": "code",
   "execution_count": 81,
   "metadata": {},
   "outputs": [],
   "source": [
    "#nfl_df.head()"
   ]
  },
  {
   "cell_type": "code",
   "execution_count": null,
   "metadata": {},
   "outputs": [],
   "source": []
  },
  {
   "cell_type": "code",
   "execution_count": 82,
   "metadata": {},
   "outputs": [],
   "source": [
    "q4 = nfl_df.merge(new_nfl, on='team_LName').groupby('Metropolitan area').agg({'W-L%': 'mean'})"
   ]
  },
  {
   "cell_type": "code",
   "execution_count": 83,
   "metadata": {},
   "outputs": [],
   "source": [
    "q4 = q4.reset_index().merge(cities_df[['Metropolitan area', 'Population']], on='Metropolitan area').set_index('Metropolitan area')"
   ]
  },
  {
   "cell_type": "code",
   "execution_count": 84,
   "metadata": {},
   "outputs": [],
   "source": [
    "#q4.dtypes"
   ]
  },
  {
   "cell_type": "code",
   "execution_count": 85,
   "metadata": {},
   "outputs": [],
   "source": [
    "q4['Population'] = q4['Population'].astype(np.float)"
   ]
  },
  {
   "cell_type": "code",
   "execution_count": 86,
   "metadata": {},
   "outputs": [
    {
     "data": {
      "text/plain": [
       "(0.004282141436393022, 0.9824114740736553)"
      ]
     },
     "execution_count": 86,
     "metadata": {},
     "output_type": "execute_result"
    }
   ],
   "source": [
    "stats.pearsonr(q4['Population'], q4['W-L%'])"
   ]
  },
  {
   "cell_type": "code",
   "execution_count": null,
   "metadata": {},
   "outputs": [],
   "source": []
  },
  {
   "cell_type": "markdown",
   "metadata": {},
   "source": [
    "# Question 5"
   ]
  },
  {
   "cell_type": "code",
   "execution_count": 87,
   "metadata": {},
   "outputs": [
    {
     "data": {
      "text/html": [
       "<div>\n",
       "<style scoped>\n",
       "    .dataframe tbody tr th:only-of-type {\n",
       "        vertical-align: middle;\n",
       "    }\n",
       "\n",
       "    .dataframe tbody tr th {\n",
       "        vertical-align: top;\n",
       "    }\n",
       "\n",
       "    .dataframe thead th {\n",
       "        text-align: right;\n",
       "    }\n",
       "</style>\n",
       "<table border=\"1\" class=\"dataframe\">\n",
       "  <thead>\n",
       "    <tr style=\"text-align: right;\">\n",
       "      <th></th>\n",
       "      <th>W/L_%</th>\n",
       "      <th>Population</th>\n",
       "    </tr>\n",
       "    <tr>\n",
       "      <th>Metropolitan area</th>\n",
       "      <th></th>\n",
       "      <th></th>\n",
       "    </tr>\n",
       "  </thead>\n",
       "  <tbody>\n",
       "    <tr>\n",
       "      <th>New York City</th>\n",
       "      <td>0.518201</td>\n",
       "      <td>20153634.0</td>\n",
       "    </tr>\n",
       "    <tr>\n",
       "      <th>Los Angeles</th>\n",
       "      <td>0.622895</td>\n",
       "      <td>13310447.0</td>\n",
       "    </tr>\n",
       "    <tr>\n",
       "      <th>San Francisco Bay Area</th>\n",
       "      <td>0.625000</td>\n",
       "      <td>6657982.0</td>\n",
       "    </tr>\n",
       "    <tr>\n",
       "      <th>Chicago</th>\n",
       "      <td>0.458333</td>\n",
       "      <td>9512999.0</td>\n",
       "    </tr>\n",
       "    <tr>\n",
       "      <th>Dallas–Fort Worth</th>\n",
       "      <td>0.567568</td>\n",
       "      <td>7233323.0</td>\n",
       "    </tr>\n",
       "  </tbody>\n",
       "</table>\n",
       "</div>"
      ],
      "text/plain": [
       "                           W/L_%  Population\n",
       "Metropolitan area                           \n",
       "New York City           0.518201  20153634.0\n",
       "Los Angeles             0.622895  13310447.0\n",
       "San Francisco Bay Area  0.625000   6657982.0\n",
       "Chicago                 0.458333   9512999.0\n",
       "Dallas–Fort Worth       0.567568   7233323.0"
      ]
     },
     "execution_count": 87,
     "metadata": {},
     "output_type": "execute_result"
    }
   ],
   "source": [
    "q1.head()"
   ]
  },
  {
   "cell_type": "code",
   "execution_count": 88,
   "metadata": {},
   "outputs": [
    {
     "data": {
      "text/html": [
       "<div>\n",
       "<style scoped>\n",
       "    .dataframe tbody tr th:only-of-type {\n",
       "        vertical-align: middle;\n",
       "    }\n",
       "\n",
       "    .dataframe tbody tr th {\n",
       "        vertical-align: top;\n",
       "    }\n",
       "\n",
       "    .dataframe thead th {\n",
       "        text-align: right;\n",
       "    }\n",
       "</style>\n",
       "<table border=\"1\" class=\"dataframe\">\n",
       "  <thead>\n",
       "    <tr style=\"text-align: right;\">\n",
       "      <th></th>\n",
       "      <th>W/L%</th>\n",
       "      <th>Population</th>\n",
       "    </tr>\n",
       "    <tr>\n",
       "      <th>Metropolitan area</th>\n",
       "      <th></th>\n",
       "      <th></th>\n",
       "    </tr>\n",
       "  </thead>\n",
       "  <tbody>\n",
       "    <tr>\n",
       "      <th>New York City</th>\n",
       "      <td>0.3475</td>\n",
       "      <td>20153634.0</td>\n",
       "    </tr>\n",
       "    <tr>\n",
       "      <th>Los Angeles</th>\n",
       "      <td>0.4695</td>\n",
       "      <td>13310447.0</td>\n",
       "    </tr>\n",
       "    <tr>\n",
       "      <th>San Francisco Bay Area</th>\n",
       "      <td>0.7070</td>\n",
       "      <td>6657982.0</td>\n",
       "    </tr>\n",
       "    <tr>\n",
       "      <th>Chicago</th>\n",
       "      <td>0.3290</td>\n",
       "      <td>9512999.0</td>\n",
       "    </tr>\n",
       "    <tr>\n",
       "      <th>Dallas–Fort Worth</th>\n",
       "      <td>0.2930</td>\n",
       "      <td>7233323.0</td>\n",
       "    </tr>\n",
       "  </tbody>\n",
       "</table>\n",
       "</div>"
      ],
      "text/plain": [
       "                          W/L%  Population\n",
       "Metropolitan area                         \n",
       "New York City           0.3475  20153634.0\n",
       "Los Angeles             0.4695  13310447.0\n",
       "San Francisco Bay Area  0.7070   6657982.0\n",
       "Chicago                 0.3290   9512999.0\n",
       "Dallas–Fort Worth       0.2930   7233323.0"
      ]
     },
     "execution_count": 88,
     "metadata": {},
     "output_type": "execute_result"
    }
   ],
   "source": [
    "q2.head()"
   ]
  },
  {
   "cell_type": "code",
   "execution_count": 89,
   "metadata": {},
   "outputs": [
    {
     "data": {
      "text/html": [
       "<div>\n",
       "<style scoped>\n",
       "    .dataframe tbody tr th:only-of-type {\n",
       "        vertical-align: middle;\n",
       "    }\n",
       "\n",
       "    .dataframe tbody tr th {\n",
       "        vertical-align: top;\n",
       "    }\n",
       "\n",
       "    .dataframe thead th {\n",
       "        text-align: right;\n",
       "    }\n",
       "</style>\n",
       "<table border=\"1\" class=\"dataframe\">\n",
       "  <thead>\n",
       "    <tr style=\"text-align: right;\">\n",
       "      <th></th>\n",
       "      <th>W-L%</th>\n",
       "      <th>Population</th>\n",
       "    </tr>\n",
       "    <tr>\n",
       "      <th>Metropolitan area</th>\n",
       "      <th></th>\n",
       "      <th></th>\n",
       "    </tr>\n",
       "  </thead>\n",
       "  <tbody>\n",
       "    <tr>\n",
       "      <th>New York City</th>\n",
       "      <td>0.546</td>\n",
       "      <td>20153634.0</td>\n",
       "    </tr>\n",
       "    <tr>\n",
       "      <th>Los Angeles</th>\n",
       "      <td>0.529</td>\n",
       "      <td>13310447.0</td>\n",
       "    </tr>\n",
       "    <tr>\n",
       "      <th>San Francisco Bay Area</th>\n",
       "      <td>0.525</td>\n",
       "      <td>6657982.0</td>\n",
       "    </tr>\n",
       "    <tr>\n",
       "      <th>Chicago</th>\n",
       "      <td>0.483</td>\n",
       "      <td>9512999.0</td>\n",
       "    </tr>\n",
       "    <tr>\n",
       "      <th>Dallas–Fort Worth</th>\n",
       "      <td>0.414</td>\n",
       "      <td>7233323.0</td>\n",
       "    </tr>\n",
       "  </tbody>\n",
       "</table>\n",
       "</div>"
      ],
      "text/plain": [
       "                         W-L%  Population\n",
       "Metropolitan area                        \n",
       "New York City           0.546  20153634.0\n",
       "Los Angeles             0.529  13310447.0\n",
       "San Francisco Bay Area  0.525   6657982.0\n",
       "Chicago                 0.483   9512999.0\n",
       "Dallas–Fort Worth       0.414   7233323.0"
      ]
     },
     "execution_count": 89,
     "metadata": {},
     "output_type": "execute_result"
    }
   ],
   "source": [
    "q3.head()"
   ]
  },
  {
   "cell_type": "code",
   "execution_count": 90,
   "metadata": {},
   "outputs": [
    {
     "data": {
      "text/html": [
       "<div>\n",
       "<style scoped>\n",
       "    .dataframe tbody tr th:only-of-type {\n",
       "        vertical-align: middle;\n",
       "    }\n",
       "\n",
       "    .dataframe tbody tr th {\n",
       "        vertical-align: top;\n",
       "    }\n",
       "\n",
       "    .dataframe thead th {\n",
       "        text-align: right;\n",
       "    }\n",
       "</style>\n",
       "<table border=\"1\" class=\"dataframe\">\n",
       "  <thead>\n",
       "    <tr style=\"text-align: right;\">\n",
       "      <th></th>\n",
       "      <th>W-L%</th>\n",
       "      <th>Population</th>\n",
       "    </tr>\n",
       "    <tr>\n",
       "      <th>Metropolitan area</th>\n",
       "      <th></th>\n",
       "      <th></th>\n",
       "    </tr>\n",
       "  </thead>\n",
       "  <tbody>\n",
       "    <tr>\n",
       "      <th>Atlanta</th>\n",
       "      <td>0.438</td>\n",
       "      <td>5789700.0</td>\n",
       "    </tr>\n",
       "    <tr>\n",
       "      <th>Baltimore</th>\n",
       "      <td>0.625</td>\n",
       "      <td>2798886.0</td>\n",
       "    </tr>\n",
       "    <tr>\n",
       "      <th>Boston</th>\n",
       "      <td>0.688</td>\n",
       "      <td>4794447.0</td>\n",
       "    </tr>\n",
       "    <tr>\n",
       "      <th>Buffalo</th>\n",
       "      <td>0.375</td>\n",
       "      <td>1132804.0</td>\n",
       "    </tr>\n",
       "    <tr>\n",
       "      <th>Charlotte</th>\n",
       "      <td>0.438</td>\n",
       "      <td>2474314.0</td>\n",
       "    </tr>\n",
       "  </tbody>\n",
       "</table>\n",
       "</div>"
      ],
      "text/plain": [
       "                    W-L%  Population\n",
       "Metropolitan area                   \n",
       "Atlanta            0.438   5789700.0\n",
       "Baltimore          0.625   2798886.0\n",
       "Boston             0.688   4794447.0\n",
       "Buffalo            0.375   1132804.0\n",
       "Charlotte          0.438   2474314.0"
      ]
     },
     "execution_count": 90,
     "metadata": {},
     "output_type": "execute_result"
    }
   ],
   "source": [
    "q4.head()"
   ]
  },
  {
   "cell_type": "code",
   "execution_count": 93,
   "metadata": {},
   "outputs": [
    {
     "data": {
      "text/html": [
       "<div>\n",
       "<style scoped>\n",
       "    .dataframe tbody tr th:only-of-type {\n",
       "        vertical-align: middle;\n",
       "    }\n",
       "\n",
       "    .dataframe tbody tr th {\n",
       "        vertical-align: top;\n",
       "    }\n",
       "\n",
       "    .dataframe thead th {\n",
       "        text-align: right;\n",
       "    }\n",
       "</style>\n",
       "<table border=\"1\" class=\"dataframe\">\n",
       "  <thead>\n",
       "    <tr style=\"text-align: right;\">\n",
       "      <th></th>\n",
       "      <th>W/L_%</th>\n",
       "      <th>Population_x</th>\n",
       "      <th>W/L%</th>\n",
       "      <th>Population_y</th>\n",
       "    </tr>\n",
       "    <tr>\n",
       "      <th>Metropolitan area</th>\n",
       "      <th></th>\n",
       "      <th></th>\n",
       "      <th></th>\n",
       "      <th></th>\n",
       "    </tr>\n",
       "  </thead>\n",
       "  <tbody>\n",
       "    <tr>\n",
       "      <th>New York City</th>\n",
       "      <td>0.518201</td>\n",
       "      <td>20153634.0</td>\n",
       "      <td>0.3475</td>\n",
       "      <td>20153634.0</td>\n",
       "    </tr>\n",
       "    <tr>\n",
       "      <th>Los Angeles</th>\n",
       "      <td>0.622895</td>\n",
       "      <td>13310447.0</td>\n",
       "      <td>0.4695</td>\n",
       "      <td>13310447.0</td>\n",
       "    </tr>\n",
       "    <tr>\n",
       "      <th>San Francisco Bay Area</th>\n",
       "      <td>0.625000</td>\n",
       "      <td>6657982.0</td>\n",
       "      <td>0.7070</td>\n",
       "      <td>6657982.0</td>\n",
       "    </tr>\n",
       "    <tr>\n",
       "      <th>Chicago</th>\n",
       "      <td>0.458333</td>\n",
       "      <td>9512999.0</td>\n",
       "      <td>0.3290</td>\n",
       "      <td>9512999.0</td>\n",
       "    </tr>\n",
       "    <tr>\n",
       "      <th>Dallas–Fort Worth</th>\n",
       "      <td>0.567568</td>\n",
       "      <td>7233323.0</td>\n",
       "      <td>0.2930</td>\n",
       "      <td>7233323.0</td>\n",
       "    </tr>\n",
       "    <tr>\n",
       "      <th>Washington, D.C.</th>\n",
       "      <td>0.653333</td>\n",
       "      <td>6131977.0</td>\n",
       "      <td>0.5240</td>\n",
       "      <td>6131977.0</td>\n",
       "    </tr>\n",
       "    <tr>\n",
       "      <th>Philadelphia</th>\n",
       "      <td>0.617647</td>\n",
       "      <td>6070500.0</td>\n",
       "      <td>0.6340</td>\n",
       "      <td>6070500.0</td>\n",
       "    </tr>\n",
       "    <tr>\n",
       "      <th>Boston</th>\n",
       "      <td>0.714286</td>\n",
       "      <td>4794447.0</td>\n",
       "      <td>0.6710</td>\n",
       "      <td>4794447.0</td>\n",
       "    </tr>\n",
       "    <tr>\n",
       "      <th>Minneapolis–Saint Paul</th>\n",
       "      <td>0.633803</td>\n",
       "      <td>3551036.0</td>\n",
       "      <td>0.5730</td>\n",
       "      <td>3551036.0</td>\n",
       "    </tr>\n",
       "    <tr>\n",
       "      <th>Denver</th>\n",
       "      <td>0.589041</td>\n",
       "      <td>2853077.0</td>\n",
       "      <td>0.5610</td>\n",
       "      <td>2853077.0</td>\n",
       "    </tr>\n",
       "    <tr>\n",
       "      <th>Miami–Fort Lauderdale</th>\n",
       "      <td>0.594595</td>\n",
       "      <td>6066387.0</td>\n",
       "      <td>0.5370</td>\n",
       "      <td>6066387.0</td>\n",
       "    </tr>\n",
       "    <tr>\n",
       "      <th>Phoenix</th>\n",
       "      <td>0.414286</td>\n",
       "      <td>4661537.0</td>\n",
       "      <td>0.2560</td>\n",
       "      <td>4661537.0</td>\n",
       "    </tr>\n",
       "    <tr>\n",
       "      <th>Detroit</th>\n",
       "      <td>0.434783</td>\n",
       "      <td>4297617.0</td>\n",
       "      <td>0.4760</td>\n",
       "      <td>4297617.0</td>\n",
       "    </tr>\n",
       "    <tr>\n",
       "      <th>Toronto</th>\n",
       "      <td>0.653333</td>\n",
       "      <td>5928040.0</td>\n",
       "      <td>0.7200</td>\n",
       "      <td>5928040.0</td>\n",
       "    </tr>\n",
       "  </tbody>\n",
       "</table>\n",
       "</div>"
      ],
      "text/plain": [
       "                           W/L_%  Population_x    W/L%  Population_y\n",
       "Metropolitan area                                                   \n",
       "New York City           0.518201    20153634.0  0.3475    20153634.0\n",
       "Los Angeles             0.622895    13310447.0  0.4695    13310447.0\n",
       "San Francisco Bay Area  0.625000     6657982.0  0.7070     6657982.0\n",
       "Chicago                 0.458333     9512999.0  0.3290     9512999.0\n",
       "Dallas–Fort Worth       0.567568     7233323.0  0.2930     7233323.0\n",
       "Washington, D.C.        0.653333     6131977.0  0.5240     6131977.0\n",
       "Philadelphia            0.617647     6070500.0  0.6340     6070500.0\n",
       "Boston                  0.714286     4794447.0  0.6710     4794447.0\n",
       "Minneapolis–Saint Paul  0.633803     3551036.0  0.5730     3551036.0\n",
       "Denver                  0.589041     2853077.0  0.5610     2853077.0\n",
       "Miami–Fort Lauderdale   0.594595     6066387.0  0.5370     6066387.0\n",
       "Phoenix                 0.414286     4661537.0  0.2560     4661537.0\n",
       "Detroit                 0.434783     4297617.0  0.4760     4297617.0\n",
       "Toronto                 0.653333     5928040.0  0.7200     5928040.0"
      ]
     },
     "execution_count": 93,
     "metadata": {},
     "output_type": "execute_result"
    }
   ],
   "source": [
    "q1.reset_index().merge(q2.reset_index(), on='Metropolitan area').set_index('Metropolitan area')"
   ]
  },
  {
   "cell_type": "code",
   "execution_count": 94,
   "metadata": {},
   "outputs": [],
   "source": [
    "sports = ['NFL', 'NBA', 'NHL', 'MLB']\n",
    "p_values = pd.DataFrame({k:np.nan for k in sports}, index=sports)"
   ]
  },
  {
   "cell_type": "code",
   "execution_count": 95,
   "metadata": {},
   "outputs": [
    {
     "data": {
      "text/html": [
       "<div>\n",
       "<style scoped>\n",
       "    .dataframe tbody tr th:only-of-type {\n",
       "        vertical-align: middle;\n",
       "    }\n",
       "\n",
       "    .dataframe tbody tr th {\n",
       "        vertical-align: top;\n",
       "    }\n",
       "\n",
       "    .dataframe thead th {\n",
       "        text-align: right;\n",
       "    }\n",
       "</style>\n",
       "<table border=\"1\" class=\"dataframe\">\n",
       "  <thead>\n",
       "    <tr style=\"text-align: right;\">\n",
       "      <th></th>\n",
       "      <th>NFL</th>\n",
       "      <th>NBA</th>\n",
       "      <th>NHL</th>\n",
       "      <th>MLB</th>\n",
       "    </tr>\n",
       "  </thead>\n",
       "  <tbody>\n",
       "    <tr>\n",
       "      <th>NFL</th>\n",
       "      <td>NaN</td>\n",
       "      <td>NaN</td>\n",
       "      <td>NaN</td>\n",
       "      <td>NaN</td>\n",
       "    </tr>\n",
       "    <tr>\n",
       "      <th>NBA</th>\n",
       "      <td>NaN</td>\n",
       "      <td>NaN</td>\n",
       "      <td>NaN</td>\n",
       "      <td>NaN</td>\n",
       "    </tr>\n",
       "    <tr>\n",
       "      <th>NHL</th>\n",
       "      <td>NaN</td>\n",
       "      <td>NaN</td>\n",
       "      <td>NaN</td>\n",
       "      <td>NaN</td>\n",
       "    </tr>\n",
       "    <tr>\n",
       "      <th>MLB</th>\n",
       "      <td>NaN</td>\n",
       "      <td>NaN</td>\n",
       "      <td>NaN</td>\n",
       "      <td>NaN</td>\n",
       "    </tr>\n",
       "  </tbody>\n",
       "</table>\n",
       "</div>"
      ],
      "text/plain": [
       "     NFL  NBA  NHL  MLB\n",
       "NFL  NaN  NaN  NaN  NaN\n",
       "NBA  NaN  NaN  NaN  NaN\n",
       "NHL  NaN  NaN  NaN  NaN\n",
       "MLB  NaN  NaN  NaN  NaN"
      ]
     },
     "execution_count": 95,
     "metadata": {},
     "output_type": "execute_result"
    }
   ],
   "source": [
    "p_values"
   ]
  },
  {
   "cell_type": "code",
   "execution_count": 96,
   "metadata": {},
   "outputs": [],
   "source": [
    "q1_nhl = q1\n",
    "q2_nba = q2\n",
    "q3_mlb = q3\n",
    "q4_nfl = q4"
   ]
  },
  {
   "cell_type": "code",
   "execution_count": 103,
   "metadata": {},
   "outputs": [
    {
     "data": {
      "text/html": [
       "<div>\n",
       "<style scoped>\n",
       "    .dataframe tbody tr th:only-of-type {\n",
       "        vertical-align: middle;\n",
       "    }\n",
       "\n",
       "    .dataframe tbody tr th {\n",
       "        vertical-align: top;\n",
       "    }\n",
       "\n",
       "    .dataframe thead th {\n",
       "        text-align: right;\n",
       "    }\n",
       "</style>\n",
       "<table border=\"1\" class=\"dataframe\">\n",
       "  <thead>\n",
       "    <tr style=\"text-align: right;\">\n",
       "      <th></th>\n",
       "      <th>W/L_%</th>\n",
       "      <th>Population</th>\n",
       "      <th>W/L%</th>\n",
       "    </tr>\n",
       "  </thead>\n",
       "  <tbody>\n",
       "    <tr>\n",
       "      <th>0</th>\n",
       "      <td>0.518201</td>\n",
       "      <td>20153634.0</td>\n",
       "      <td>0.3475</td>\n",
       "    </tr>\n",
       "    <tr>\n",
       "      <th>1</th>\n",
       "      <td>0.622895</td>\n",
       "      <td>13310447.0</td>\n",
       "      <td>0.4695</td>\n",
       "    </tr>\n",
       "    <tr>\n",
       "      <th>2</th>\n",
       "      <td>0.625000</td>\n",
       "      <td>6657982.0</td>\n",
       "      <td>0.7070</td>\n",
       "    </tr>\n",
       "    <tr>\n",
       "      <th>3</th>\n",
       "      <td>0.458333</td>\n",
       "      <td>9512999.0</td>\n",
       "      <td>0.3290</td>\n",
       "    </tr>\n",
       "    <tr>\n",
       "      <th>4</th>\n",
       "      <td>0.567568</td>\n",
       "      <td>7233323.0</td>\n",
       "      <td>0.2930</td>\n",
       "    </tr>\n",
       "    <tr>\n",
       "      <th>5</th>\n",
       "      <td>0.653333</td>\n",
       "      <td>6131977.0</td>\n",
       "      <td>0.5240</td>\n",
       "    </tr>\n",
       "    <tr>\n",
       "      <th>6</th>\n",
       "      <td>0.617647</td>\n",
       "      <td>6070500.0</td>\n",
       "      <td>0.6340</td>\n",
       "    </tr>\n",
       "    <tr>\n",
       "      <th>7</th>\n",
       "      <td>0.714286</td>\n",
       "      <td>4794447.0</td>\n",
       "      <td>0.6710</td>\n",
       "    </tr>\n",
       "    <tr>\n",
       "      <th>8</th>\n",
       "      <td>0.633803</td>\n",
       "      <td>3551036.0</td>\n",
       "      <td>0.5730</td>\n",
       "    </tr>\n",
       "    <tr>\n",
       "      <th>9</th>\n",
       "      <td>0.589041</td>\n",
       "      <td>2853077.0</td>\n",
       "      <td>0.5610</td>\n",
       "    </tr>\n",
       "    <tr>\n",
       "      <th>10</th>\n",
       "      <td>0.594595</td>\n",
       "      <td>6066387.0</td>\n",
       "      <td>0.5370</td>\n",
       "    </tr>\n",
       "    <tr>\n",
       "      <th>11</th>\n",
       "      <td>0.414286</td>\n",
       "      <td>4661537.0</td>\n",
       "      <td>0.2560</td>\n",
       "    </tr>\n",
       "    <tr>\n",
       "      <th>12</th>\n",
       "      <td>0.434783</td>\n",
       "      <td>4297617.0</td>\n",
       "      <td>0.4760</td>\n",
       "    </tr>\n",
       "    <tr>\n",
       "      <th>13</th>\n",
       "      <td>0.653333</td>\n",
       "      <td>5928040.0</td>\n",
       "      <td>0.7200</td>\n",
       "    </tr>\n",
       "  </tbody>\n",
       "</table>\n",
       "</div>"
      ],
      "text/plain": [
       "       W/L_%  Population    W/L%\n",
       "0   0.518201  20153634.0  0.3475\n",
       "1   0.622895  13310447.0  0.4695\n",
       "2   0.625000   6657982.0  0.7070\n",
       "3   0.458333   9512999.0  0.3290\n",
       "4   0.567568   7233323.0  0.2930\n",
       "5   0.653333   6131977.0  0.5240\n",
       "6   0.617647   6070500.0  0.6340\n",
       "7   0.714286   4794447.0  0.6710\n",
       "8   0.633803   3551036.0  0.5730\n",
       "9   0.589041   2853077.0  0.5610\n",
       "10  0.594595   6066387.0  0.5370\n",
       "11  0.414286   4661537.0  0.2560\n",
       "12  0.434783   4297617.0  0.4760\n",
       "13  0.653333   5928040.0  0.7200"
      ]
     },
     "execution_count": 103,
     "metadata": {},
     "output_type": "execute_result"
    }
   ],
   "source": [
    "q1_nhl.merge(q2_nba)"
   ]
  },
  {
   "cell_type": "code",
   "execution_count": 113,
   "metadata": {},
   "outputs": [],
   "source": [
    "p_values.loc['NHL', 'NBA'] = stats.ttest_rel(q1_nhl.merge(q2_nba).iloc[:, 0], q1_nhl.merge(q2_nba).iloc[:, 2])[1]\n",
    "p_values.loc['NBA', 'NHL'] = p_values.loc['NHL', 'NBA']"
   ]
  },
  {
   "cell_type": "code",
   "execution_count": 120,
   "metadata": {},
   "outputs": [
    {
     "data": {
      "text/html": [
       "<div>\n",
       "<style scoped>\n",
       "    .dataframe tbody tr th:only-of-type {\n",
       "        vertical-align: middle;\n",
       "    }\n",
       "\n",
       "    .dataframe tbody tr th {\n",
       "        vertical-align: top;\n",
       "    }\n",
       "\n",
       "    .dataframe thead th {\n",
       "        text-align: right;\n",
       "    }\n",
       "</style>\n",
       "<table border=\"1\" class=\"dataframe\">\n",
       "  <thead>\n",
       "    <tr style=\"text-align: right;\">\n",
       "      <th></th>\n",
       "      <th>W-L%</th>\n",
       "      <th>Population</th>\n",
       "    </tr>\n",
       "    <tr>\n",
       "      <th>Metropolitan area</th>\n",
       "      <th></th>\n",
       "      <th></th>\n",
       "    </tr>\n",
       "  </thead>\n",
       "  <tbody>\n",
       "    <tr>\n",
       "      <th>New York City</th>\n",
       "      <td>0.546</td>\n",
       "      <td>20153634.0</td>\n",
       "    </tr>\n",
       "    <tr>\n",
       "      <th>Los Angeles</th>\n",
       "      <td>0.529</td>\n",
       "      <td>13310447.0</td>\n",
       "    </tr>\n",
       "    <tr>\n",
       "      <th>San Francisco Bay Area</th>\n",
       "      <td>0.525</td>\n",
       "      <td>6657982.0</td>\n",
       "    </tr>\n",
       "    <tr>\n",
       "      <th>Chicago</th>\n",
       "      <td>0.483</td>\n",
       "      <td>9512999.0</td>\n",
       "    </tr>\n",
       "    <tr>\n",
       "      <th>Dallas–Fort Worth</th>\n",
       "      <td>0.414</td>\n",
       "      <td>7233323.0</td>\n",
       "    </tr>\n",
       "    <tr>\n",
       "      <th>Washington, D.C.</th>\n",
       "      <td>0.506</td>\n",
       "      <td>6131977.0</td>\n",
       "    </tr>\n",
       "    <tr>\n",
       "      <th>Philadelphia</th>\n",
       "      <td>0.494</td>\n",
       "      <td>6070500.0</td>\n",
       "    </tr>\n",
       "    <tr>\n",
       "      <th>Boston</th>\n",
       "      <td>0.667</td>\n",
       "      <td>4794447.0</td>\n",
       "    </tr>\n",
       "    <tr>\n",
       "      <th>Minneapolis–Saint Paul</th>\n",
       "      <td>0.481</td>\n",
       "      <td>3551036.0</td>\n",
       "    </tr>\n",
       "    <tr>\n",
       "      <th>Denver</th>\n",
       "      <td>0.558</td>\n",
       "      <td>2853077.0</td>\n",
       "    </tr>\n",
       "    <tr>\n",
       "      <th>Miami–Fort Lauderdale</th>\n",
       "      <td>0.391</td>\n",
       "      <td>6066387.0</td>\n",
       "    </tr>\n",
       "    <tr>\n",
       "      <th>Phoenix</th>\n",
       "      <td>0.506</td>\n",
       "      <td>4661537.0</td>\n",
       "    </tr>\n",
       "    <tr>\n",
       "      <th>Detroit</th>\n",
       "      <td>0.395</td>\n",
       "      <td>4297617.0</td>\n",
       "    </tr>\n",
       "    <tr>\n",
       "      <th>Toronto</th>\n",
       "      <td>0.451</td>\n",
       "      <td>5928040.0</td>\n",
       "    </tr>\n",
       "    <tr>\n",
       "      <th>Houston</th>\n",
       "      <td>0.636</td>\n",
       "      <td>6772470.0</td>\n",
       "    </tr>\n",
       "    <tr>\n",
       "      <th>Atlanta</th>\n",
       "      <td>0.556</td>\n",
       "      <td>5789700.0</td>\n",
       "    </tr>\n",
       "    <tr>\n",
       "      <th>Tampa Bay Area</th>\n",
       "      <td>0.556</td>\n",
       "      <td>3032171.0</td>\n",
       "    </tr>\n",
       "    <tr>\n",
       "      <th>Pittsburgh</th>\n",
       "      <td>0.509</td>\n",
       "      <td>2342299.0</td>\n",
       "    </tr>\n",
       "    <tr>\n",
       "      <th>Cleveland</th>\n",
       "      <td>0.562</td>\n",
       "      <td>2055612.0</td>\n",
       "    </tr>\n",
       "    <tr>\n",
       "      <th>Seattle</th>\n",
       "      <td>0.549</td>\n",
       "      <td>3798902.0</td>\n",
       "    </tr>\n",
       "    <tr>\n",
       "      <th>Cincinnati</th>\n",
       "      <td>0.414</td>\n",
       "      <td>2165139.0</td>\n",
       "    </tr>\n",
       "    <tr>\n",
       "      <th>Kansas City</th>\n",
       "      <td>0.358</td>\n",
       "      <td>2104509.0</td>\n",
       "    </tr>\n",
       "    <tr>\n",
       "      <th>St. Louis</th>\n",
       "      <td>0.543</td>\n",
       "      <td>2807002.0</td>\n",
       "    </tr>\n",
       "    <tr>\n",
       "      <th>Baltimore</th>\n",
       "      <td>0.290</td>\n",
       "      <td>2798886.0</td>\n",
       "    </tr>\n",
       "    <tr>\n",
       "      <th>Milwaukee</th>\n",
       "      <td>0.589</td>\n",
       "      <td>1572482.0</td>\n",
       "    </tr>\n",
       "    <tr>\n",
       "      <th>San Diego</th>\n",
       "      <td>0.407</td>\n",
       "      <td>3317749.0</td>\n",
       "    </tr>\n",
       "  </tbody>\n",
       "</table>\n",
       "</div>"
      ],
      "text/plain": [
       "                         W-L%  Population\n",
       "Metropolitan area                        \n",
       "New York City           0.546  20153634.0\n",
       "Los Angeles             0.529  13310447.0\n",
       "San Francisco Bay Area  0.525   6657982.0\n",
       "Chicago                 0.483   9512999.0\n",
       "Dallas–Fort Worth       0.414   7233323.0\n",
       "Washington, D.C.        0.506   6131977.0\n",
       "Philadelphia            0.494   6070500.0\n",
       "Boston                  0.667   4794447.0\n",
       "Minneapolis–Saint Paul  0.481   3551036.0\n",
       "Denver                  0.558   2853077.0\n",
       "Miami–Fort Lauderdale   0.391   6066387.0\n",
       "Phoenix                 0.506   4661537.0\n",
       "Detroit                 0.395   4297617.0\n",
       "Toronto                 0.451   5928040.0\n",
       "Houston                 0.636   6772470.0\n",
       "Atlanta                 0.556   5789700.0\n",
       "Tampa Bay Area          0.556   3032171.0\n",
       "Pittsburgh              0.509   2342299.0\n",
       "Cleveland               0.562   2055612.0\n",
       "Seattle                 0.549   3798902.0\n",
       "Cincinnati              0.414   2165139.0\n",
       "Kansas City             0.358   2104509.0\n",
       "St. Louis               0.543   2807002.0\n",
       "Baltimore               0.290   2798886.0\n",
       "Milwaukee               0.589   1572482.0\n",
       "San Diego               0.407   3317749.0"
      ]
     },
     "execution_count": 120,
     "metadata": {},
     "output_type": "execute_result"
    }
   ],
   "source": [
    "q3_mlb"
   ]
  },
  {
   "cell_type": "code",
   "execution_count": 130,
   "metadata": {},
   "outputs": [],
   "source": [
    "mlb_nfl = q3_mlb.reset_index().merge(q4_nfl.reset_index(), on='Metropolitan area').iloc[:, [1, 3]]"
   ]
  },
  {
   "cell_type": "code",
   "execution_count": 136,
   "metadata": {},
   "outputs": [],
   "source": [
    "p_values.loc['MLB', 'NFL'] = stats.ttest_rel(mlb_nfl.iloc[:, 0], mlb_nfl.iloc[:, 1])[1]\n",
    "p_values.loc['NFL', 'MLB'] = p_values.loc['MLB', 'NFL']"
   ]
  },
  {
   "cell_type": "code",
   "execution_count": 137,
   "metadata": {},
   "outputs": [
    {
     "data": {
      "text/html": [
       "<div>\n",
       "<style scoped>\n",
       "    .dataframe tbody tr th:only-of-type {\n",
       "        vertical-align: middle;\n",
       "    }\n",
       "\n",
       "    .dataframe tbody tr th {\n",
       "        vertical-align: top;\n",
       "    }\n",
       "\n",
       "    .dataframe thead th {\n",
       "        text-align: right;\n",
       "    }\n",
       "</style>\n",
       "<table border=\"1\" class=\"dataframe\">\n",
       "  <thead>\n",
       "    <tr style=\"text-align: right;\">\n",
       "      <th></th>\n",
       "      <th>NFL</th>\n",
       "      <th>NBA</th>\n",
       "      <th>NHL</th>\n",
       "      <th>MLB</th>\n",
       "    </tr>\n",
       "  </thead>\n",
       "  <tbody>\n",
       "    <tr>\n",
       "      <th>NFL</th>\n",
       "      <td>NaN</td>\n",
       "      <td>NaN</td>\n",
       "      <td>NaN</td>\n",
       "      <td>0.803459</td>\n",
       "    </tr>\n",
       "    <tr>\n",
       "      <th>NBA</th>\n",
       "      <td>NaN</td>\n",
       "      <td>NaN</td>\n",
       "      <td>0.022386</td>\n",
       "      <td>NaN</td>\n",
       "    </tr>\n",
       "    <tr>\n",
       "      <th>NHL</th>\n",
       "      <td>NaN</td>\n",
       "      <td>0.022386</td>\n",
       "      <td>NaN</td>\n",
       "      <td>NaN</td>\n",
       "    </tr>\n",
       "    <tr>\n",
       "      <th>MLB</th>\n",
       "      <td>0.803459</td>\n",
       "      <td>NaN</td>\n",
       "      <td>NaN</td>\n",
       "      <td>NaN</td>\n",
       "    </tr>\n",
       "  </tbody>\n",
       "</table>\n",
       "</div>"
      ],
      "text/plain": [
       "          NFL       NBA       NHL       MLB\n",
       "NFL       NaN       NaN       NaN  0.803459\n",
       "NBA       NaN       NaN  0.022386       NaN\n",
       "NHL       NaN  0.022386       NaN       NaN\n",
       "MLB  0.803459       NaN       NaN       NaN"
      ]
     },
     "execution_count": 137,
     "metadata": {},
     "output_type": "execute_result"
    }
   ],
   "source": [
    "p_values"
   ]
  },
  {
   "cell_type": "code",
   "execution_count": 139,
   "metadata": {},
   "outputs": [],
   "source": [
    "nfl_nba = q2_nba.merge(q4_nfl)"
   ]
  },
  {
   "cell_type": "code",
   "execution_count": 157,
   "metadata": {},
   "outputs": [],
   "source": [
    "p_values.loc['NBA', 'NFL'] = stats.ttest_rel(nfl_nba.iloc[:, 0], nfl_nba.iloc[:, 2])[1]\n",
    "p_values.loc['NFL', 'NBA'] = p_values.loc['NBA', 'NFL']"
   ]
  },
  {
   "cell_type": "code",
   "execution_count": 160,
   "metadata": {},
   "outputs": [
    {
     "data": {
      "text/html": [
       "<div>\n",
       "<style scoped>\n",
       "    .dataframe tbody tr th:only-of-type {\n",
       "        vertical-align: middle;\n",
       "    }\n",
       "\n",
       "    .dataframe tbody tr th {\n",
       "        vertical-align: top;\n",
       "    }\n",
       "\n",
       "    .dataframe thead th {\n",
       "        text-align: right;\n",
       "    }\n",
       "</style>\n",
       "<table border=\"1\" class=\"dataframe\">\n",
       "  <thead>\n",
       "    <tr style=\"text-align: right;\">\n",
       "      <th></th>\n",
       "      <th>NFL</th>\n",
       "      <th>NBA</th>\n",
       "      <th>NHL</th>\n",
       "      <th>MLB</th>\n",
       "    </tr>\n",
       "  </thead>\n",
       "  <tbody>\n",
       "    <tr>\n",
       "      <th>NFL</th>\n",
       "      <td>NaN</td>\n",
       "      <td>0.937509</td>\n",
       "      <td>0.030318</td>\n",
       "      <td>0.803459</td>\n",
       "    </tr>\n",
       "    <tr>\n",
       "      <th>NBA</th>\n",
       "      <td>0.937509</td>\n",
       "      <td>NaN</td>\n",
       "      <td>0.022386</td>\n",
       "      <td>NaN</td>\n",
       "    </tr>\n",
       "    <tr>\n",
       "      <th>NHL</th>\n",
       "      <td>0.030318</td>\n",
       "      <td>0.022386</td>\n",
       "      <td>NaN</td>\n",
       "      <td>NaN</td>\n",
       "    </tr>\n",
       "    <tr>\n",
       "      <th>MLB</th>\n",
       "      <td>0.803459</td>\n",
       "      <td>NaN</td>\n",
       "      <td>NaN</td>\n",
       "      <td>NaN</td>\n",
       "    </tr>\n",
       "  </tbody>\n",
       "</table>\n",
       "</div>"
      ],
      "text/plain": [
       "          NFL       NBA       NHL       MLB\n",
       "NFL       NaN  0.937509  0.030318  0.803459\n",
       "NBA  0.937509       NaN  0.022386       NaN\n",
       "NHL  0.030318  0.022386       NaN       NaN\n",
       "MLB  0.803459       NaN       NaN       NaN"
      ]
     },
     "execution_count": 160,
     "metadata": {},
     "output_type": "execute_result"
    }
   ],
   "source": [
    "p_values"
   ]
  },
  {
   "cell_type": "code",
   "execution_count": 149,
   "metadata": {},
   "outputs": [],
   "source": [
    "nfl_nhl = q1_nhl.merge(q4_nfl)"
   ]
  },
  {
   "cell_type": "code",
   "execution_count": 161,
   "metadata": {},
   "outputs": [
    {
     "data": {
      "text/html": [
       "<div>\n",
       "<style scoped>\n",
       "    .dataframe tbody tr th:only-of-type {\n",
       "        vertical-align: middle;\n",
       "    }\n",
       "\n",
       "    .dataframe tbody tr th {\n",
       "        vertical-align: top;\n",
       "    }\n",
       "\n",
       "    .dataframe thead th {\n",
       "        text-align: right;\n",
       "    }\n",
       "</style>\n",
       "<table border=\"1\" class=\"dataframe\">\n",
       "  <thead>\n",
       "    <tr style=\"text-align: right;\">\n",
       "      <th></th>\n",
       "      <th>W/L_%</th>\n",
       "      <th>Population</th>\n",
       "      <th>W-L%</th>\n",
       "    </tr>\n",
       "  </thead>\n",
       "  <tbody>\n",
       "    <tr>\n",
       "      <th>0</th>\n",
       "      <td>0.518201</td>\n",
       "      <td>20153634.0</td>\n",
       "      <td>0.2815</td>\n",
       "    </tr>\n",
       "    <tr>\n",
       "      <th>1</th>\n",
       "      <td>0.622895</td>\n",
       "      <td>13310447.0</td>\n",
       "      <td>0.7815</td>\n",
       "    </tr>\n",
       "    <tr>\n",
       "      <th>2</th>\n",
       "      <td>0.625000</td>\n",
       "      <td>6657982.0</td>\n",
       "      <td>0.2500</td>\n",
       "    </tr>\n",
       "    <tr>\n",
       "      <th>3</th>\n",
       "      <td>0.458333</td>\n",
       "      <td>9512999.0</td>\n",
       "      <td>0.7500</td>\n",
       "    </tr>\n",
       "    <tr>\n",
       "      <th>4</th>\n",
       "      <td>0.567568</td>\n",
       "      <td>7233323.0</td>\n",
       "      <td>0.6250</td>\n",
       "    </tr>\n",
       "    <tr>\n",
       "      <th>5</th>\n",
       "      <td>0.653333</td>\n",
       "      <td>6131977.0</td>\n",
       "      <td>0.4380</td>\n",
       "    </tr>\n",
       "    <tr>\n",
       "      <th>6</th>\n",
       "      <td>0.617647</td>\n",
       "      <td>6070500.0</td>\n",
       "      <td>0.5630</td>\n",
       "    </tr>\n",
       "    <tr>\n",
       "      <th>7</th>\n",
       "      <td>0.714286</td>\n",
       "      <td>4794447.0</td>\n",
       "      <td>0.6880</td>\n",
       "    </tr>\n",
       "    <tr>\n",
       "      <th>8</th>\n",
       "      <td>0.633803</td>\n",
       "      <td>3551036.0</td>\n",
       "      <td>0.5310</td>\n",
       "    </tr>\n",
       "    <tr>\n",
       "      <th>9</th>\n",
       "      <td>0.589041</td>\n",
       "      <td>2853077.0</td>\n",
       "      <td>0.3750</td>\n",
       "    </tr>\n",
       "    <tr>\n",
       "      <th>10</th>\n",
       "      <td>0.594595</td>\n",
       "      <td>6066387.0</td>\n",
       "      <td>0.4380</td>\n",
       "    </tr>\n",
       "    <tr>\n",
       "      <th>11</th>\n",
       "      <td>0.414286</td>\n",
       "      <td>4661537.0</td>\n",
       "      <td>0.1880</td>\n",
       "    </tr>\n",
       "    <tr>\n",
       "      <th>12</th>\n",
       "      <td>0.434783</td>\n",
       "      <td>4297617.0</td>\n",
       "      <td>0.3750</td>\n",
       "    </tr>\n",
       "    <tr>\n",
       "      <th>13</th>\n",
       "      <td>0.701299</td>\n",
       "      <td>3032171.0</td>\n",
       "      <td>0.3130</td>\n",
       "    </tr>\n",
       "    <tr>\n",
       "      <th>14</th>\n",
       "      <td>0.618421</td>\n",
       "      <td>2342299.0</td>\n",
       "      <td>0.5940</td>\n",
       "    </tr>\n",
       "    <tr>\n",
       "      <th>15</th>\n",
       "      <td>0.746479</td>\n",
       "      <td>1865298.0</td>\n",
       "      <td>0.5630</td>\n",
       "    </tr>\n",
       "    <tr>\n",
       "      <th>16</th>\n",
       "      <td>0.357143</td>\n",
       "      <td>1132804.0</td>\n",
       "      <td>0.3750</td>\n",
       "    </tr>\n",
       "  </tbody>\n",
       "</table>\n",
       "</div>"
      ],
      "text/plain": [
       "       W/L_%  Population    W-L%\n",
       "0   0.518201  20153634.0  0.2815\n",
       "1   0.622895  13310447.0  0.7815\n",
       "2   0.625000   6657982.0  0.2500\n",
       "3   0.458333   9512999.0  0.7500\n",
       "4   0.567568   7233323.0  0.6250\n",
       "5   0.653333   6131977.0  0.4380\n",
       "6   0.617647   6070500.0  0.5630\n",
       "7   0.714286   4794447.0  0.6880\n",
       "8   0.633803   3551036.0  0.5310\n",
       "9   0.589041   2853077.0  0.3750\n",
       "10  0.594595   6066387.0  0.4380\n",
       "11  0.414286   4661537.0  0.1880\n",
       "12  0.434783   4297617.0  0.3750\n",
       "13  0.701299   3032171.0  0.3130\n",
       "14  0.618421   2342299.0  0.5940\n",
       "15  0.746479   1865298.0  0.5630\n",
       "16  0.357143   1132804.0  0.3750"
      ]
     },
     "execution_count": 161,
     "metadata": {},
     "output_type": "execute_result"
    }
   ],
   "source": [
    "nfl_nhl"
   ]
  },
  {
   "cell_type": "code",
   "execution_count": 159,
   "metadata": {},
   "outputs": [],
   "source": [
    "p_values.loc['NFL', 'NHL'] = stats.ttest_rel(nfl_nhl.iloc[:, 0], nfl_nhl.iloc[:, 2])[1]\n",
    "p_values.loc['NHL', 'NFL'] = p_values.loc['NFL', 'NHL']"
   ]
  },
  {
   "cell_type": "code",
   "execution_count": 162,
   "metadata": {},
   "outputs": [
    {
     "data": {
      "text/html": [
       "<div>\n",
       "<style scoped>\n",
       "    .dataframe tbody tr th:only-of-type {\n",
       "        vertical-align: middle;\n",
       "    }\n",
       "\n",
       "    .dataframe tbody tr th {\n",
       "        vertical-align: top;\n",
       "    }\n",
       "\n",
       "    .dataframe thead th {\n",
       "        text-align: right;\n",
       "    }\n",
       "</style>\n",
       "<table border=\"1\" class=\"dataframe\">\n",
       "  <thead>\n",
       "    <tr style=\"text-align: right;\">\n",
       "      <th></th>\n",
       "      <th>NFL</th>\n",
       "      <th>NBA</th>\n",
       "      <th>NHL</th>\n",
       "      <th>MLB</th>\n",
       "    </tr>\n",
       "  </thead>\n",
       "  <tbody>\n",
       "    <tr>\n",
       "      <th>NFL</th>\n",
       "      <td>NaN</td>\n",
       "      <td>0.937509</td>\n",
       "      <td>0.030318</td>\n",
       "      <td>0.803459</td>\n",
       "    </tr>\n",
       "    <tr>\n",
       "      <th>NBA</th>\n",
       "      <td>0.937509</td>\n",
       "      <td>NaN</td>\n",
       "      <td>0.022386</td>\n",
       "      <td>NaN</td>\n",
       "    </tr>\n",
       "    <tr>\n",
       "      <th>NHL</th>\n",
       "      <td>0.030318</td>\n",
       "      <td>0.022386</td>\n",
       "      <td>NaN</td>\n",
       "      <td>NaN</td>\n",
       "    </tr>\n",
       "    <tr>\n",
       "      <th>MLB</th>\n",
       "      <td>0.803459</td>\n",
       "      <td>NaN</td>\n",
       "      <td>NaN</td>\n",
       "      <td>NaN</td>\n",
       "    </tr>\n",
       "  </tbody>\n",
       "</table>\n",
       "</div>"
      ],
      "text/plain": [
       "          NFL       NBA       NHL       MLB\n",
       "NFL       NaN  0.937509  0.030318  0.803459\n",
       "NBA  0.937509       NaN  0.022386       NaN\n",
       "NHL  0.030318  0.022386       NaN       NaN\n",
       "MLB  0.803459       NaN       NaN       NaN"
      ]
     },
     "execution_count": 162,
     "metadata": {},
     "output_type": "execute_result"
    }
   ],
   "source": [
    "p_values"
   ]
  },
  {
   "cell_type": "code",
   "execution_count": 155,
   "metadata": {},
   "outputs": [],
   "source": [
    "nba_mlb = q2_nba.merge(q3_mlb)"
   ]
  },
  {
   "cell_type": "code",
   "execution_count": 165,
   "metadata": {},
   "outputs": [],
   "source": [
    "p_values.loc['NBA', 'MLB'] = stats.ttest_rel(nba_mlb.iloc[:, 0], nba_mlb.iloc[:, 2])[1]\n",
    "p_values.loc['MLB', 'NBA'] = p_values.loc['NBA', 'MLB']"
   ]
  },
  {
   "cell_type": "code",
   "execution_count": 166,
   "metadata": {},
   "outputs": [
    {
     "data": {
      "text/html": [
       "<div>\n",
       "<style scoped>\n",
       "    .dataframe tbody tr th:only-of-type {\n",
       "        vertical-align: middle;\n",
       "    }\n",
       "\n",
       "    .dataframe tbody tr th {\n",
       "        vertical-align: top;\n",
       "    }\n",
       "\n",
       "    .dataframe thead th {\n",
       "        text-align: right;\n",
       "    }\n",
       "</style>\n",
       "<table border=\"1\" class=\"dataframe\">\n",
       "  <thead>\n",
       "    <tr style=\"text-align: right;\">\n",
       "      <th></th>\n",
       "      <th>NFL</th>\n",
       "      <th>NBA</th>\n",
       "      <th>NHL</th>\n",
       "      <th>MLB</th>\n",
       "    </tr>\n",
       "  </thead>\n",
       "  <tbody>\n",
       "    <tr>\n",
       "      <th>NFL</th>\n",
       "      <td>NaN</td>\n",
       "      <td>0.937509</td>\n",
       "      <td>0.030318</td>\n",
       "      <td>0.803459</td>\n",
       "    </tr>\n",
       "    <tr>\n",
       "      <th>NBA</th>\n",
       "      <td>0.937509</td>\n",
       "      <td>NaN</td>\n",
       "      <td>0.022386</td>\n",
       "      <td>0.949566</td>\n",
       "    </tr>\n",
       "    <tr>\n",
       "      <th>NHL</th>\n",
       "      <td>0.030318</td>\n",
       "      <td>0.022386</td>\n",
       "      <td>NaN</td>\n",
       "      <td>NaN</td>\n",
       "    </tr>\n",
       "    <tr>\n",
       "      <th>MLB</th>\n",
       "      <td>0.803459</td>\n",
       "      <td>0.949566</td>\n",
       "      <td>NaN</td>\n",
       "      <td>NaN</td>\n",
       "    </tr>\n",
       "  </tbody>\n",
       "</table>\n",
       "</div>"
      ],
      "text/plain": [
       "          NFL       NBA       NHL       MLB\n",
       "NFL       NaN  0.937509  0.030318  0.803459\n",
       "NBA  0.937509       NaN  0.022386  0.949566\n",
       "NHL  0.030318  0.022386       NaN       NaN\n",
       "MLB  0.803459  0.949566       NaN       NaN"
      ]
     },
     "execution_count": 166,
     "metadata": {},
     "output_type": "execute_result"
    }
   ],
   "source": [
    "p_values"
   ]
  },
  {
   "cell_type": "code",
   "execution_count": 168,
   "metadata": {},
   "outputs": [],
   "source": [
    "nhl_mlb = q1_nhl.merge(q3_mlb)"
   ]
  },
  {
   "cell_type": "code",
   "execution_count": 172,
   "metadata": {},
   "outputs": [],
   "source": [
    "p_values.loc['NHL', 'MLB'] = stats.ttest_rel(nhl_mlb.iloc[:, 0], nhl_mlb.iloc[:, 2])[1]\n",
    "p_values.loc['MLB', 'NHL'] = p_values.loc['NHL', 'MLB']"
   ]
  },
  {
   "cell_type": "code",
   "execution_count": 173,
   "metadata": {},
   "outputs": [
    {
     "data": {
      "text/html": [
       "<div>\n",
       "<style scoped>\n",
       "    .dataframe tbody tr th:only-of-type {\n",
       "        vertical-align: middle;\n",
       "    }\n",
       "\n",
       "    .dataframe tbody tr th {\n",
       "        vertical-align: top;\n",
       "    }\n",
       "\n",
       "    .dataframe thead th {\n",
       "        text-align: right;\n",
       "    }\n",
       "</style>\n",
       "<table border=\"1\" class=\"dataframe\">\n",
       "  <thead>\n",
       "    <tr style=\"text-align: right;\">\n",
       "      <th></th>\n",
       "      <th>NFL</th>\n",
       "      <th>NBA</th>\n",
       "      <th>NHL</th>\n",
       "      <th>MLB</th>\n",
       "    </tr>\n",
       "  </thead>\n",
       "  <tbody>\n",
       "    <tr>\n",
       "      <th>NFL</th>\n",
       "      <td>NaN</td>\n",
       "      <td>0.937509</td>\n",
       "      <td>0.030318</td>\n",
       "      <td>0.803459</td>\n",
       "    </tr>\n",
       "    <tr>\n",
       "      <th>NBA</th>\n",
       "      <td>0.937509</td>\n",
       "      <td>NaN</td>\n",
       "      <td>0.022386</td>\n",
       "      <td>0.949566</td>\n",
       "    </tr>\n",
       "    <tr>\n",
       "      <th>NHL</th>\n",
       "      <td>0.030318</td>\n",
       "      <td>0.022386</td>\n",
       "      <td>NaN</td>\n",
       "      <td>0.000703</td>\n",
       "    </tr>\n",
       "    <tr>\n",
       "      <th>MLB</th>\n",
       "      <td>0.803459</td>\n",
       "      <td>0.949566</td>\n",
       "      <td>0.000703</td>\n",
       "      <td>NaN</td>\n",
       "    </tr>\n",
       "  </tbody>\n",
       "</table>\n",
       "</div>"
      ],
      "text/plain": [
       "          NFL       NBA       NHL       MLB\n",
       "NFL       NaN  0.937509  0.030318  0.803459\n",
       "NBA  0.937509       NaN  0.022386  0.949566\n",
       "NHL  0.030318  0.022386       NaN  0.000703\n",
       "MLB  0.803459  0.949566  0.000703       NaN"
      ]
     },
     "execution_count": 173,
     "metadata": {},
     "output_type": "execute_result"
    }
   ],
   "source": [
    "p_values"
   ]
  },
  {
   "cell_type": "code",
   "execution_count": null,
   "metadata": {},
   "outputs": [],
   "source": []
  }
 ],
 "metadata": {
  "kernelspec": {
   "display_name": "Python 3",
   "language": "python",
   "name": "python3"
  },
  "language_info": {
   "codemirror_mode": {
    "name": "ipython",
    "version": 3
   },
   "file_extension": ".py",
   "mimetype": "text/x-python",
   "name": "python",
   "nbconvert_exporter": "python",
   "pygments_lexer": "ipython3",
   "version": "3.7.6"
  }
 },
 "nbformat": 4,
 "nbformat_minor": 4
}
